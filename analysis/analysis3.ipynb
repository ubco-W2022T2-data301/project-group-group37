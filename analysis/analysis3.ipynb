{
 "cells": [
  {
   "cell_type": "markdown",
   "metadata": {},
   "source": [
    "# Ahmad Firdaus Azri"
   ]
  },
  {
   "cell_type": "markdown",
   "metadata": {},
   "source": [
    "## What combination of Device and Internet Type produces the best adaptivity level of students to online classes? What is the worst? \n",
    "\n",
    "\n",
    "Device and Internet Type columns caught my attention because different combinations of devices (Mobile, Tab & Computer) and internet type (Mobile data & Wi-Fi) result to different / similar adaptivity level of students. Thus, I am wondering if there are certain combinations of these components that result to \"High\" and \"Low\" adaptivity level the most. "
   ]
  },
  {
   "cell_type": "markdown",
   "metadata": {},
   "source": [
    "### My plan:\n",
    "Definition of: \n",
    "- Best combination: A combination whose frequency of “High” adaptivity level is the highest\n",
    "- Worst combination: A combination whose frequency of “Low” adaptivity level is the highest\n",
    "\n",
    "Visualized by bar charts:\n",
    "- Horizontal axis: List of combinations (6 in total)\n",
    "- Vertical axis: Frequency\n",
    "- Each combination has 3 bars which indicates 3 levels of adaptivity (High, Moderate, Low)"
   ]
  },
  {
   "cell_type": "code",
   "execution_count": null,
   "metadata": {},
   "outputs": [],
   "source": []
  }
 ],
 "metadata": {
  "kernelspec": {
   "display_name": "Python 3 (ipykernel)",
   "language": "python",
   "name": "python3"
  },
  "language_info": {
   "codemirror_mode": {
    "name": "ipython",
    "version": 3
   },
   "file_extension": ".py",
   "mimetype": "text/x-python",
   "name": "python",
   "nbconvert_exporter": "python",
   "pygments_lexer": "ipython3",
   "version": "3.10.8"
  }
 },
 "nbformat": 4,
 "nbformat_minor": 4
}
