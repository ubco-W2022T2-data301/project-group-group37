{
 "cells": [
  {
   "cell_type": "markdown",
   "metadata": {},
   "source": [
    "# Ahmad Firdaus Azri"
   ]
  },
  {
   "cell_type": "markdown",
   "metadata": {},
   "source": [
    "## What combination of Device and Internet Type produces the best adaptivity level of students to online classes? What is the worst? \n",
    "\n",
    "\n",
    "Device and Internet Type columns caught my attention because different combinations of devices (Mobile, Tab & Computer) and internet type (Mobile data & Wi-Fi) result to different / similar adaptivity level of students. Thus, I am wondering if there are certain combinations of these components that result to \"High\" and \"Low\" adaptivity level the most. "
   ]
  },
  {
   "cell_type": "markdown",
   "metadata": {},
   "source": [
    "### My plan:\n",
    "Used columns: \n",
    "- Network Type\n",
    "- Internet Type\n",
    "- Device\n",
    "- Adaptivity Level\n",
    "\n",
    "Definition of: \n",
    "- Best combination: A combination whose frequency of **high** `Adaptivity Level` is the highest\n",
    "- Worst combination: A combination whose frequency of **low** `Adaptivity Level` is the highest\n",
    "\n",
    "Chosen data visualization for exploratory:\n",
    "- Scatter plot: To see the distribution of data points based on `Internet Type` and `Device` as it able to roughly visualizes which combination has the most or the least count of students. Besides, it is possible also to have 0 student who has certain combination used for their online education. \n",
    "- Heatmap: Perform the same function as scatter plot but it might be more suitable and provide more insight about the dataset\n",
    "- Point plot: To be able to detect which combination is the best and the worst instantly based on the height of the data points. \n",
    "- Count plot: Performing the same function as point plot but with different visualization because it looks exactly like a barplot."
   ]
  },
  {
   "cell_type": "code",
   "execution_count": 1,
   "metadata": {},
   "outputs": [
    {
     "data": {
      "text/html": [
       "<div>\n",
       "<style scoped>\n",
       "    .dataframe tbody tr th:only-of-type {\n",
       "        vertical-align: middle;\n",
       "    }\n",
       "\n",
       "    .dataframe tbody tr th {\n",
       "        vertical-align: top;\n",
       "    }\n",
       "\n",
       "    .dataframe thead th {\n",
       "        text-align: right;\n",
       "    }\n",
       "</style>\n",
       "<table border=\"1\" class=\"dataframe\">\n",
       "  <thead>\n",
       "    <tr style=\"text-align: right;\">\n",
       "      <th></th>\n",
       "      <th>Gender</th>\n",
       "      <th>Age</th>\n",
       "      <th>Education Level</th>\n",
       "      <th>Institution Type</th>\n",
       "      <th>IT Student</th>\n",
       "      <th>Location</th>\n",
       "      <th>Load-shedding</th>\n",
       "      <th>Financial Condition</th>\n",
       "      <th>Internet Type</th>\n",
       "      <th>Network Type</th>\n",
       "      <th>Class Duration</th>\n",
       "      <th>Self Lms</th>\n",
       "      <th>Device</th>\n",
       "      <th>Adaptivity Level</th>\n",
       "    </tr>\n",
       "  </thead>\n",
       "  <tbody>\n",
       "    <tr>\n",
       "      <th>0</th>\n",
       "      <td>Boy</td>\n",
       "      <td>21-25</td>\n",
       "      <td>University</td>\n",
       "      <td>Non Government</td>\n",
       "      <td>No</td>\n",
       "      <td>Yes</td>\n",
       "      <td>Low</td>\n",
       "      <td>Mid</td>\n",
       "      <td>Wifi</td>\n",
       "      <td>4G</td>\n",
       "      <td>3-6</td>\n",
       "      <td>No</td>\n",
       "      <td>Tab</td>\n",
       "      <td>Moderate</td>\n",
       "    </tr>\n",
       "    <tr>\n",
       "      <th>1</th>\n",
       "      <td>Girl</td>\n",
       "      <td>21-25</td>\n",
       "      <td>University</td>\n",
       "      <td>Non Government</td>\n",
       "      <td>No</td>\n",
       "      <td>Yes</td>\n",
       "      <td>High</td>\n",
       "      <td>Mid</td>\n",
       "      <td>Mobile Data</td>\n",
       "      <td>4G</td>\n",
       "      <td>1-3</td>\n",
       "      <td>Yes</td>\n",
       "      <td>Mobile</td>\n",
       "      <td>Moderate</td>\n",
       "    </tr>\n",
       "    <tr>\n",
       "      <th>2</th>\n",
       "      <td>Girl</td>\n",
       "      <td>16-20</td>\n",
       "      <td>College</td>\n",
       "      <td>Government</td>\n",
       "      <td>No</td>\n",
       "      <td>Yes</td>\n",
       "      <td>Low</td>\n",
       "      <td>Mid</td>\n",
       "      <td>Wifi</td>\n",
       "      <td>4G</td>\n",
       "      <td>1-3</td>\n",
       "      <td>No</td>\n",
       "      <td>Mobile</td>\n",
       "      <td>Moderate</td>\n",
       "    </tr>\n",
       "    <tr>\n",
       "      <th>3</th>\n",
       "      <td>Girl</td>\n",
       "      <td>11-15</td>\n",
       "      <td>School</td>\n",
       "      <td>Non Government</td>\n",
       "      <td>No</td>\n",
       "      <td>Yes</td>\n",
       "      <td>Low</td>\n",
       "      <td>Mid</td>\n",
       "      <td>Mobile Data</td>\n",
       "      <td>4G</td>\n",
       "      <td>1-3</td>\n",
       "      <td>No</td>\n",
       "      <td>Mobile</td>\n",
       "      <td>Moderate</td>\n",
       "    </tr>\n",
       "    <tr>\n",
       "      <th>4</th>\n",
       "      <td>Girl</td>\n",
       "      <td>16-20</td>\n",
       "      <td>School</td>\n",
       "      <td>Non Government</td>\n",
       "      <td>No</td>\n",
       "      <td>Yes</td>\n",
       "      <td>Low</td>\n",
       "      <td>Poor</td>\n",
       "      <td>Mobile Data</td>\n",
       "      <td>3G</td>\n",
       "      <td>0</td>\n",
       "      <td>No</td>\n",
       "      <td>Mobile</td>\n",
       "      <td>Low</td>\n",
       "    </tr>\n",
       "    <tr>\n",
       "      <th>...</th>\n",
       "      <td>...</td>\n",
       "      <td>...</td>\n",
       "      <td>...</td>\n",
       "      <td>...</td>\n",
       "      <td>...</td>\n",
       "      <td>...</td>\n",
       "      <td>...</td>\n",
       "      <td>...</td>\n",
       "      <td>...</td>\n",
       "      <td>...</td>\n",
       "      <td>...</td>\n",
       "      <td>...</td>\n",
       "      <td>...</td>\n",
       "      <td>...</td>\n",
       "    </tr>\n",
       "    <tr>\n",
       "      <th>1200</th>\n",
       "      <td>Girl</td>\n",
       "      <td>16-20</td>\n",
       "      <td>College</td>\n",
       "      <td>Non Government</td>\n",
       "      <td>No</td>\n",
       "      <td>Yes</td>\n",
       "      <td>Low</td>\n",
       "      <td>Mid</td>\n",
       "      <td>Wifi</td>\n",
       "      <td>4G</td>\n",
       "      <td>1-3</td>\n",
       "      <td>No</td>\n",
       "      <td>Mobile</td>\n",
       "      <td>Low</td>\n",
       "    </tr>\n",
       "    <tr>\n",
       "      <th>1201</th>\n",
       "      <td>Girl</td>\n",
       "      <td>16-20</td>\n",
       "      <td>College</td>\n",
       "      <td>Non Government</td>\n",
       "      <td>No</td>\n",
       "      <td>No</td>\n",
       "      <td>High</td>\n",
       "      <td>Mid</td>\n",
       "      <td>Wifi</td>\n",
       "      <td>4G</td>\n",
       "      <td>3-6</td>\n",
       "      <td>No</td>\n",
       "      <td>Mobile</td>\n",
       "      <td>Moderate</td>\n",
       "    </tr>\n",
       "    <tr>\n",
       "      <th>1202</th>\n",
       "      <td>Boy</td>\n",
       "      <td>11-15</td>\n",
       "      <td>School</td>\n",
       "      <td>Non Government</td>\n",
       "      <td>No</td>\n",
       "      <td>Yes</td>\n",
       "      <td>Low</td>\n",
       "      <td>Mid</td>\n",
       "      <td>Mobile Data</td>\n",
       "      <td>3G</td>\n",
       "      <td>1-3</td>\n",
       "      <td>No</td>\n",
       "      <td>Mobile</td>\n",
       "      <td>Moderate</td>\n",
       "    </tr>\n",
       "    <tr>\n",
       "      <th>1203</th>\n",
       "      <td>Girl</td>\n",
       "      <td>16-20</td>\n",
       "      <td>College</td>\n",
       "      <td>Non Government</td>\n",
       "      <td>No</td>\n",
       "      <td>No</td>\n",
       "      <td>Low</td>\n",
       "      <td>Mid</td>\n",
       "      <td>Wifi</td>\n",
       "      <td>4G</td>\n",
       "      <td>1-3</td>\n",
       "      <td>No</td>\n",
       "      <td>Mobile</td>\n",
       "      <td>Low</td>\n",
       "    </tr>\n",
       "    <tr>\n",
       "      <th>1204</th>\n",
       "      <td>Girl</td>\n",
       "      <td>11-15</td>\n",
       "      <td>School</td>\n",
       "      <td>Non Government</td>\n",
       "      <td>No</td>\n",
       "      <td>Yes</td>\n",
       "      <td>Low</td>\n",
       "      <td>Poor</td>\n",
       "      <td>Mobile Data</td>\n",
       "      <td>3G</td>\n",
       "      <td>1-3</td>\n",
       "      <td>No</td>\n",
       "      <td>Mobile</td>\n",
       "      <td>Moderate</td>\n",
       "    </tr>\n",
       "  </tbody>\n",
       "</table>\n",
       "<p>1205 rows × 14 columns</p>\n",
       "</div>"
      ],
      "text/plain": [
       "     Gender    Age Education Level Institution Type IT Student Location  \\\n",
       "0       Boy  21-25      University   Non Government         No      Yes   \n",
       "1      Girl  21-25      University   Non Government         No      Yes   \n",
       "2      Girl  16-20         College       Government         No      Yes   \n",
       "3      Girl  11-15          School   Non Government         No      Yes   \n",
       "4      Girl  16-20          School   Non Government         No      Yes   \n",
       "...     ...    ...             ...              ...        ...      ...   \n",
       "1200   Girl  16-20         College   Non Government         No      Yes   \n",
       "1201   Girl  16-20         College   Non Government         No       No   \n",
       "1202    Boy  11-15          School   Non Government         No      Yes   \n",
       "1203   Girl  16-20         College   Non Government         No       No   \n",
       "1204   Girl  11-15          School   Non Government         No      Yes   \n",
       "\n",
       "     Load-shedding Financial Condition Internet Type Network Type  \\\n",
       "0              Low                 Mid          Wifi           4G   \n",
       "1             High                 Mid   Mobile Data           4G   \n",
       "2              Low                 Mid          Wifi           4G   \n",
       "3              Low                 Mid   Mobile Data           4G   \n",
       "4              Low                Poor   Mobile Data           3G   \n",
       "...            ...                 ...           ...          ...   \n",
       "1200           Low                 Mid          Wifi           4G   \n",
       "1201          High                 Mid          Wifi           4G   \n",
       "1202           Low                 Mid   Mobile Data           3G   \n",
       "1203           Low                 Mid          Wifi           4G   \n",
       "1204           Low                Poor   Mobile Data           3G   \n",
       "\n",
       "     Class Duration Self Lms  Device Adaptivity Level  \n",
       "0               3-6       No     Tab         Moderate  \n",
       "1               1-3      Yes  Mobile         Moderate  \n",
       "2               1-3       No  Mobile         Moderate  \n",
       "3               1-3       No  Mobile         Moderate  \n",
       "4                 0       No  Mobile              Low  \n",
       "...             ...      ...     ...              ...  \n",
       "1200            1-3       No  Mobile              Low  \n",
       "1201            3-6       No  Mobile         Moderate  \n",
       "1202            1-3       No  Mobile         Moderate  \n",
       "1203            1-3       No  Mobile              Low  \n",
       "1204            1-3       No  Mobile         Moderate  \n",
       "\n",
       "[1205 rows x 14 columns]"
      ]
     },
     "execution_count": 1,
     "metadata": {},
     "output_type": "execute_result"
    }
   ],
   "source": [
    "import pandas as pd\n",
    "import numpy as np\n",
    "import matplotlib\n",
    "import matplotlib.pyplot as plt\n",
    "import seaborn as sns\n",
    "\n",
    "mainDF = pd.read_csv(\"../data/raw/adaptability.csv\")\n",
    "mainDF"
   ]
  },
  {
   "cell_type": "code",
   "execution_count": 3,
   "metadata": {},
   "outputs": [
    {
     "data": {
      "text/html": [
       "<div>\n",
       "<style scoped>\n",
       "    .dataframe tbody tr th:only-of-type {\n",
       "        vertical-align: middle;\n",
       "    }\n",
       "\n",
       "    .dataframe tbody tr th {\n",
       "        vertical-align: top;\n",
       "    }\n",
       "\n",
       "    .dataframe thead th {\n",
       "        text-align: right;\n",
       "    }\n",
       "</style>\n",
       "<table border=\"1\" class=\"dataframe\">\n",
       "  <thead>\n",
       "    <tr style=\"text-align: right;\">\n",
       "      <th></th>\n",
       "      <th>Internet Type</th>\n",
       "      <th>Network Type</th>\n",
       "      <th>Device</th>\n",
       "      <th>Adaptivity Level</th>\n",
       "    </tr>\n",
       "  </thead>\n",
       "  <tbody>\n",
       "    <tr>\n",
       "      <th>0</th>\n",
       "      <td>Wifi</td>\n",
       "      <td>4G</td>\n",
       "      <td>Tab</td>\n",
       "      <td>Moderate</td>\n",
       "    </tr>\n",
       "    <tr>\n",
       "      <th>1</th>\n",
       "      <td>Mobile Data</td>\n",
       "      <td>4G</td>\n",
       "      <td>Mobile</td>\n",
       "      <td>Moderate</td>\n",
       "    </tr>\n",
       "    <tr>\n",
       "      <th>2</th>\n",
       "      <td>Wifi</td>\n",
       "      <td>4G</td>\n",
       "      <td>Mobile</td>\n",
       "      <td>Moderate</td>\n",
       "    </tr>\n",
       "    <tr>\n",
       "      <th>3</th>\n",
       "      <td>Mobile Data</td>\n",
       "      <td>4G</td>\n",
       "      <td>Mobile</td>\n",
       "      <td>Moderate</td>\n",
       "    </tr>\n",
       "    <tr>\n",
       "      <th>4</th>\n",
       "      <td>Mobile Data</td>\n",
       "      <td>3G</td>\n",
       "      <td>Mobile</td>\n",
       "      <td>Low</td>\n",
       "    </tr>\n",
       "    <tr>\n",
       "      <th>...</th>\n",
       "      <td>...</td>\n",
       "      <td>...</td>\n",
       "      <td>...</td>\n",
       "      <td>...</td>\n",
       "    </tr>\n",
       "    <tr>\n",
       "      <th>1200</th>\n",
       "      <td>Wifi</td>\n",
       "      <td>4G</td>\n",
       "      <td>Mobile</td>\n",
       "      <td>Low</td>\n",
       "    </tr>\n",
       "    <tr>\n",
       "      <th>1201</th>\n",
       "      <td>Wifi</td>\n",
       "      <td>4G</td>\n",
       "      <td>Mobile</td>\n",
       "      <td>Moderate</td>\n",
       "    </tr>\n",
       "    <tr>\n",
       "      <th>1202</th>\n",
       "      <td>Mobile Data</td>\n",
       "      <td>3G</td>\n",
       "      <td>Mobile</td>\n",
       "      <td>Moderate</td>\n",
       "    </tr>\n",
       "    <tr>\n",
       "      <th>1203</th>\n",
       "      <td>Wifi</td>\n",
       "      <td>4G</td>\n",
       "      <td>Mobile</td>\n",
       "      <td>Low</td>\n",
       "    </tr>\n",
       "    <tr>\n",
       "      <th>1204</th>\n",
       "      <td>Mobile Data</td>\n",
       "      <td>3G</td>\n",
       "      <td>Mobile</td>\n",
       "      <td>Moderate</td>\n",
       "    </tr>\n",
       "  </tbody>\n",
       "</table>\n",
       "<p>1205 rows × 4 columns</p>\n",
       "</div>"
      ],
      "text/plain": [
       "     Internet Type Network Type  Device Adaptivity Level\n",
       "0             Wifi           4G     Tab         Moderate\n",
       "1      Mobile Data           4G  Mobile         Moderate\n",
       "2             Wifi           4G  Mobile         Moderate\n",
       "3      Mobile Data           4G  Mobile         Moderate\n",
       "4      Mobile Data           3G  Mobile              Low\n",
       "...            ...          ...     ...              ...\n",
       "1200          Wifi           4G  Mobile              Low\n",
       "1201          Wifi           4G  Mobile         Moderate\n",
       "1202   Mobile Data           3G  Mobile         Moderate\n",
       "1203          Wifi           4G  Mobile              Low\n",
       "1204   Mobile Data           3G  Mobile         Moderate\n",
       "\n",
       "[1205 rows x 4 columns]"
      ]
     },
     "execution_count": 3,
     "metadata": {},
     "output_type": "execute_result"
    }
   ],
   "source": [
    "df = mainDF.drop([\"Gender\", \"Age\", \"Education Level\", \"Institution Type\", \"IT Student\", \"Location\", \"Load-shedding\", \"Financial Condition\", \"Class Duration\", \"Self Lms\"], axis = \"columns\")\n",
    "df"
   ]
  },
  {
   "cell_type": "code",
   "execution_count": 4,
   "metadata": {},
   "outputs": [
    {
     "data": {
      "text/plain": [
       "Internet Type       0\n",
       "Network Type        0\n",
       "Device              0\n",
       "Adaptivity Level    0\n",
       "dtype: int64"
      ]
     },
     "execution_count": 4,
     "metadata": {},
     "output_type": "execute_result"
    }
   ],
   "source": [
    "# To see if there is any missing values in each column in df\n",
    "df.isna().sum()"
   ]
  },
  {
   "cell_type": "markdown",
   "metadata": {},
   "source": [
    "Looks like there is no missing values in all needed columns. Thus, there is no need to deal with them."
   ]
  },
  {
   "cell_type": "code",
   "execution_count": 5,
   "metadata": {},
   "outputs": [
    {
     "data": {
      "text/plain": [
       "Internet Type       2\n",
       "Network Type        3\n",
       "Device              3\n",
       "Adaptivity Level    3\n",
       "dtype: int64"
      ]
     },
     "execution_count": 5,
     "metadata": {},
     "output_type": "execute_result"
    }
   ],
   "source": [
    "# To see how many unique values are there in every columns in df\n",
    "df.nunique()"
   ]
  },
  {
   "cell_type": "code",
   "execution_count": 6,
   "metadata": {},
   "outputs": [
    {
     "data": {
      "text/plain": [
       "Internet Type           [Wifi, Mobile Data]\n",
       "Network Type                   [4G, 3G, 2G]\n",
       "Device              [Tab, Mobile, Computer]\n",
       "Adaptivity Level      [Moderate, Low, High]\n",
       "dtype: object"
      ]
     },
     "execution_count": 6,
     "metadata": {},
     "output_type": "execute_result"
    }
   ],
   "source": [
    "# To see what are those unique values in each columns in df\n",
    "df.apply(lambda col : col.unique())"
   ]
  },
  {
   "cell_type": "code",
   "execution_count": 7,
   "metadata": {},
   "outputs": [
    {
     "data": {
      "text/html": [
       "<div>\n",
       "<style scoped>\n",
       "    .dataframe tbody tr th:only-of-type {\n",
       "        vertical-align: middle;\n",
       "    }\n",
       "\n",
       "    .dataframe tbody tr th {\n",
       "        vertical-align: top;\n",
       "    }\n",
       "\n",
       "    .dataframe thead th {\n",
       "        text-align: right;\n",
       "    }\n",
       "</style>\n",
       "<table border=\"1\" class=\"dataframe\">\n",
       "  <thead>\n",
       "    <tr style=\"text-align: right;\">\n",
       "      <th></th>\n",
       "      <th>Internet Type</th>\n",
       "      <th>Network Type</th>\n",
       "      <th>Device</th>\n",
       "      <th>Adaptivity Level</th>\n",
       "    </tr>\n",
       "  </thead>\n",
       "  <tbody>\n",
       "    <tr>\n",
       "      <th>count</th>\n",
       "      <td>1205</td>\n",
       "      <td>1205</td>\n",
       "      <td>1205</td>\n",
       "      <td>1205</td>\n",
       "    </tr>\n",
       "    <tr>\n",
       "      <th>unique</th>\n",
       "      <td>2</td>\n",
       "      <td>3</td>\n",
       "      <td>3</td>\n",
       "      <td>3</td>\n",
       "    </tr>\n",
       "    <tr>\n",
       "      <th>top</th>\n",
       "      <td>Mobile Data</td>\n",
       "      <td>4G</td>\n",
       "      <td>Mobile</td>\n",
       "      <td>Moderate</td>\n",
       "    </tr>\n",
       "    <tr>\n",
       "      <th>freq</th>\n",
       "      <td>695</td>\n",
       "      <td>775</td>\n",
       "      <td>1013</td>\n",
       "      <td>625</td>\n",
       "    </tr>\n",
       "  </tbody>\n",
       "</table>\n",
       "</div>"
      ],
      "text/plain": [
       "       Internet Type Network Type  Device Adaptivity Level\n",
       "count           1205         1205    1205             1205\n",
       "unique             2            3       3                3\n",
       "top      Mobile Data           4G  Mobile         Moderate\n",
       "freq             695          775    1013              625"
      ]
     },
     "execution_count": 7,
     "metadata": {},
     "output_type": "execute_result"
    }
   ],
   "source": [
    "# This code help us to observe amount of unique values and which of them has the most frequency in each column in df\n",
    "df.describe()"
   ]
  },
  {
   "cell_type": "markdown",
   "metadata": {},
   "source": [
    "---"
   ]
  },
  {
   "cell_type": "markdown",
   "metadata": {},
   "source": [
    "First and foremost, it is important to identify how many combinations available and what are they. Since we have 3 types of `Devices` (Computer, Tab & Mobile) 2 kinds of `Internet Type` (Wifi & Mobile Data), so it is certain that there are 6 combinations of `Device` and `Internet Type` altogether. \n",
    "\n",
    "Combinations: \n",
    "- Wifi & Computer (W + C)\n",
    "- Wifi & Tab (W + T)\n",
    "- Wifi & Mobile (W + M)\n",
    "- Mobile Data & Computer (MD + C)\n",
    "- Mobile Data & Tab (MD + T)\n",
    "- Mobile Data & Mobile (MD + M)\n",
    "\n",
    "Those acronym in each parentheses will be frequently used in later analysis. Therefore, it is wise to create a new column in `df` named `Combination` which states what combination of `Device` and `Internet Type`each student has."
   ]
  },
  {
   "cell_type": "code",
   "execution_count": 8,
   "metadata": {},
   "outputs": [],
   "source": [
    "def combineDeviceInternet(df):\n",
    "    if((df[\"Internet Type\"] == \"Wifi\") and (df[\"Device\"] == \"Computer\")):\n",
    "        return \"W + C\"\n",
    "    elif((df[\"Internet Type\"] == \"Wifi\") and (df[\"Device\"] == \"Tab\")):\n",
    "        return \"W + T\"\n",
    "    elif((df[\"Internet Type\"] == \"Wifi\") and (df[\"Device\"] == \"Mobile\")):\n",
    "        return \"W + M\"\n",
    "    elif((df[\"Internet Type\"] == \"Mobile Data\") and (df[\"Device\"] == \"Computer\")):\n",
    "        return \"MD + C\"\n",
    "    elif((df[\"Internet Type\"] == \"Mobile Data\") and (df[\"Device\"] == \"Tab\")):\n",
    "        return \"MD + T\"\n",
    "    else: \n",
    "        return \"MD + M\""
   ]
  },
  {
   "cell_type": "code",
   "execution_count": 9,
   "metadata": {},
   "outputs": [
    {
     "data": {
      "text/html": [
       "<div>\n",
       "<style scoped>\n",
       "    .dataframe tbody tr th:only-of-type {\n",
       "        vertical-align: middle;\n",
       "    }\n",
       "\n",
       "    .dataframe tbody tr th {\n",
       "        vertical-align: top;\n",
       "    }\n",
       "\n",
       "    .dataframe thead th {\n",
       "        text-align: right;\n",
       "    }\n",
       "</style>\n",
       "<table border=\"1\" class=\"dataframe\">\n",
       "  <thead>\n",
       "    <tr style=\"text-align: right;\">\n",
       "      <th></th>\n",
       "      <th>Internet Type</th>\n",
       "      <th>Network Type</th>\n",
       "      <th>Device</th>\n",
       "      <th>Adaptivity Level</th>\n",
       "      <th>Combination</th>\n",
       "    </tr>\n",
       "  </thead>\n",
       "  <tbody>\n",
       "    <tr>\n",
       "      <th>0</th>\n",
       "      <td>Wifi</td>\n",
       "      <td>4G</td>\n",
       "      <td>Tab</td>\n",
       "      <td>Moderate</td>\n",
       "      <td>W + T</td>\n",
       "    </tr>\n",
       "    <tr>\n",
       "      <th>1</th>\n",
       "      <td>Mobile Data</td>\n",
       "      <td>4G</td>\n",
       "      <td>Mobile</td>\n",
       "      <td>Moderate</td>\n",
       "      <td>MD + M</td>\n",
       "    </tr>\n",
       "    <tr>\n",
       "      <th>2</th>\n",
       "      <td>Wifi</td>\n",
       "      <td>4G</td>\n",
       "      <td>Mobile</td>\n",
       "      <td>Moderate</td>\n",
       "      <td>W + M</td>\n",
       "    </tr>\n",
       "    <tr>\n",
       "      <th>3</th>\n",
       "      <td>Mobile Data</td>\n",
       "      <td>4G</td>\n",
       "      <td>Mobile</td>\n",
       "      <td>Moderate</td>\n",
       "      <td>MD + M</td>\n",
       "    </tr>\n",
       "    <tr>\n",
       "      <th>4</th>\n",
       "      <td>Mobile Data</td>\n",
       "      <td>3G</td>\n",
       "      <td>Mobile</td>\n",
       "      <td>Low</td>\n",
       "      <td>MD + M</td>\n",
       "    </tr>\n",
       "    <tr>\n",
       "      <th>...</th>\n",
       "      <td>...</td>\n",
       "      <td>...</td>\n",
       "      <td>...</td>\n",
       "      <td>...</td>\n",
       "      <td>...</td>\n",
       "    </tr>\n",
       "    <tr>\n",
       "      <th>1200</th>\n",
       "      <td>Wifi</td>\n",
       "      <td>4G</td>\n",
       "      <td>Mobile</td>\n",
       "      <td>Low</td>\n",
       "      <td>W + M</td>\n",
       "    </tr>\n",
       "    <tr>\n",
       "      <th>1201</th>\n",
       "      <td>Wifi</td>\n",
       "      <td>4G</td>\n",
       "      <td>Mobile</td>\n",
       "      <td>Moderate</td>\n",
       "      <td>W + M</td>\n",
       "    </tr>\n",
       "    <tr>\n",
       "      <th>1202</th>\n",
       "      <td>Mobile Data</td>\n",
       "      <td>3G</td>\n",
       "      <td>Mobile</td>\n",
       "      <td>Moderate</td>\n",
       "      <td>MD + M</td>\n",
       "    </tr>\n",
       "    <tr>\n",
       "      <th>1203</th>\n",
       "      <td>Wifi</td>\n",
       "      <td>4G</td>\n",
       "      <td>Mobile</td>\n",
       "      <td>Low</td>\n",
       "      <td>W + M</td>\n",
       "    </tr>\n",
       "    <tr>\n",
       "      <th>1204</th>\n",
       "      <td>Mobile Data</td>\n",
       "      <td>3G</td>\n",
       "      <td>Mobile</td>\n",
       "      <td>Moderate</td>\n",
       "      <td>MD + M</td>\n",
       "    </tr>\n",
       "  </tbody>\n",
       "</table>\n",
       "<p>1205 rows × 5 columns</p>\n",
       "</div>"
      ],
      "text/plain": [
       "     Internet Type Network Type  Device Adaptivity Level Combination\n",
       "0             Wifi           4G     Tab         Moderate       W + T\n",
       "1      Mobile Data           4G  Mobile         Moderate      MD + M\n",
       "2             Wifi           4G  Mobile         Moderate       W + M\n",
       "3      Mobile Data           4G  Mobile         Moderate      MD + M\n",
       "4      Mobile Data           3G  Mobile              Low      MD + M\n",
       "...            ...          ...     ...              ...         ...\n",
       "1200          Wifi           4G  Mobile              Low       W + M\n",
       "1201          Wifi           4G  Mobile         Moderate       W + M\n",
       "1202   Mobile Data           3G  Mobile         Moderate      MD + M\n",
       "1203          Wifi           4G  Mobile              Low       W + M\n",
       "1204   Mobile Data           3G  Mobile         Moderate      MD + M\n",
       "\n",
       "[1205 rows x 5 columns]"
      ]
     },
     "execution_count": 9,
     "metadata": {},
     "output_type": "execute_result"
    }
   ],
   "source": [
    "df[\"Combination\"] = df.apply(combineDeviceInternet, axis = \"columns\")\n",
    "df"
   ]
  },
  {
   "cell_type": "markdown",
   "metadata": {},
   "source": [
    "---"
   ]
  },
  {
   "cell_type": "markdown",
   "metadata": {},
   "source": [
    "For our first data visualization, let's try **categorical scatter plot**."
   ]
  },
  {
   "cell_type": "code",
   "execution_count": 7,
   "metadata": {},
   "outputs": [
    {
     "data": {
      "text/plain": [
       "<seaborn.axisgrid.FacetGrid at 0x1b333573580>"
      ]
     },
     "execution_count": 7,
     "metadata": {},
     "output_type": "execute_result"
    },
    {
     "data": {
      "image/png": "[encoded data removed]",
      "text/plain": [
       "<Figure size 622.986x500 with 1 Axes>"
      ]
     },
     "metadata": {},
     "output_type": "display_data"
    }
   ],
   "source": [
    "sns.catplot(data = df, x = \"Internet Type\", y = \"Device\", hue = \"Adaptivity Level\").set(title = \"Categorical scatter plot for Device and Internet Type\")"
   ]
  },
  {
   "cell_type": "markdown",
   "metadata": {},
   "source": [
    "### Observation from categorical scatter plot: \n",
    "\n",
    "Well, that does not really help us in finding the answer because:\n",
    "- Those plots are overlapping with each other despite of their different colours.\n",
    "- It is very unclear which combination has the most count for high and low adaptivity level.\n",
    "\n",
    "However, at this point we know that there is no student who has a combination of Tab and Mobile Data for their online classes since there is not data plot marked for it. "
   ]
  },
  {
   "cell_type": "markdown",
   "metadata": {},
   "source": [
    "---"
   ]
  },
  {
   "cell_type": "markdown",
   "metadata": {},
   "source": [
    "Now, let's try **point plot**. But before that, we need a set of numerical data to do so and it is a problem because we do not have anything numerical in our dataset yet. So, the count of `Adaptivity Level` (Low, Moderate, High) will be our numerical data. To do so, we need to do some wranggling process with our `df` before produce a point plot."
   ]
  },
  {
   "cell_type": "code",
   "execution_count": 5,
   "metadata": {},
   "outputs": [],
   "source": [
    "df1 = df[df[\"Combination\"] == \"W + C\"]\n",
    "df2 = df[df[\"Combination\"] == \"W + T\"]\n",
    "df3 = df[df[\"Combination\"] == \"W + M\"]\n",
    "df4 = df[df[\"Combination\"] == \"MD + C\"]\n",
    "df5 = df[df[\"Combination\"] == \"MD + T\"]\n",
    "df6 = df[df[\"Combination\"] == \"MD + M\"]"
   ]
  },
  {
   "cell_type": "code",
   "execution_count": 6,
   "metadata": {},
   "outputs": [],
   "source": [
    "def countLevel(df):\n",
    "    high = (df[\"Adaptivity Level\"].values == \"High\").sum()\n",
    "    mod = (df[\"Adaptivity Level\"].values == \"Moderate\").sum()\n",
    "    low = (df[\"Adaptivity Level\"].values == \"Low\").sum()\n",
    "    return [high, mod, low]"
   ]
  },
  {
   "cell_type": "code",
   "execution_count": 7,
   "metadata": {},
   "outputs": [],
   "source": [
    "count1 = countLevel(df1)\n",
    "count2 = countLevel(df2)\n",
    "count3 = countLevel(df3)\n",
    "count4 = countLevel(df4)\n",
    "count5 = countLevel(df5)\n",
    "count6 = countLevel(df6)"
   ]
  },
  {
   "cell_type": "code",
   "execution_count": 8,
   "metadata": {},
   "outputs": [
    {
     "data": {
      "text/html": [
       "<div>\n",
       "<style scoped>\n",
       "    .dataframe tbody tr th:only-of-type {\n",
       "        vertical-align: middle;\n",
       "    }\n",
       "\n",
       "    .dataframe tbody tr th {\n",
       "        vertical-align: top;\n",
       "    }\n",
       "\n",
       "    .dataframe thead th {\n",
       "        text-align: right;\n",
       "    }\n",
       "</style>\n",
       "<table border=\"1\" class=\"dataframe\">\n",
       "  <thead>\n",
       "    <tr style=\"text-align: right;\">\n",
       "      <th></th>\n",
       "      <th>Combination</th>\n",
       "      <th>Adaptivity Level</th>\n",
       "      <th>Count</th>\n",
       "    </tr>\n",
       "  </thead>\n",
       "  <tbody>\n",
       "    <tr>\n",
       "      <th>0</th>\n",
       "      <td>W + C</td>\n",
       "      <td>High</td>\n",
       "      <td>30</td>\n",
       "    </tr>\n",
       "    <tr>\n",
       "      <th>1</th>\n",
       "      <td>W + C</td>\n",
       "      <td>Moderate</td>\n",
       "      <td>81</td>\n",
       "    </tr>\n",
       "    <tr>\n",
       "      <th>2</th>\n",
       "      <td>W + C</td>\n",
       "      <td>Low</td>\n",
       "      <td>32</td>\n",
       "    </tr>\n",
       "    <tr>\n",
       "      <th>3</th>\n",
       "      <td>W + T</td>\n",
       "      <td>High</td>\n",
       "      <td>2</td>\n",
       "    </tr>\n",
       "    <tr>\n",
       "      <th>4</th>\n",
       "      <td>W + T</td>\n",
       "      <td>Moderate</td>\n",
       "      <td>26</td>\n",
       "    </tr>\n",
       "    <tr>\n",
       "      <th>5</th>\n",
       "      <td>W + T</td>\n",
       "      <td>Low</td>\n",
       "      <td>2</td>\n",
       "    </tr>\n",
       "    <tr>\n",
       "      <th>6</th>\n",
       "      <td>W + M</td>\n",
       "      <td>High</td>\n",
       "      <td>32</td>\n",
       "    </tr>\n",
       "    <tr>\n",
       "      <th>7</th>\n",
       "      <td>W + M</td>\n",
       "      <td>Moderate</td>\n",
       "      <td>147</td>\n",
       "    </tr>\n",
       "    <tr>\n",
       "      <th>8</th>\n",
       "      <td>W + M</td>\n",
       "      <td>Low</td>\n",
       "      <td>158</td>\n",
       "    </tr>\n",
       "    <tr>\n",
       "      <th>9</th>\n",
       "      <td>MD + C</td>\n",
       "      <td>High</td>\n",
       "      <td>0</td>\n",
       "    </tr>\n",
       "    <tr>\n",
       "      <th>10</th>\n",
       "      <td>MD + C</td>\n",
       "      <td>Moderate</td>\n",
       "      <td>11</td>\n",
       "    </tr>\n",
       "    <tr>\n",
       "      <th>11</th>\n",
       "      <td>MD + C</td>\n",
       "      <td>Low</td>\n",
       "      <td>8</td>\n",
       "    </tr>\n",
       "    <tr>\n",
       "      <th>12</th>\n",
       "      <td>MD + T</td>\n",
       "      <td>High</td>\n",
       "      <td>0</td>\n",
       "    </tr>\n",
       "    <tr>\n",
       "      <th>13</th>\n",
       "      <td>MD + T</td>\n",
       "      <td>Moderate</td>\n",
       "      <td>0</td>\n",
       "    </tr>\n",
       "    <tr>\n",
       "      <th>14</th>\n",
       "      <td>MD + T</td>\n",
       "      <td>Low</td>\n",
       "      <td>0</td>\n",
       "    </tr>\n",
       "    <tr>\n",
       "      <th>15</th>\n",
       "      <td>MD + M</td>\n",
       "      <td>High</td>\n",
       "      <td>36</td>\n",
       "    </tr>\n",
       "    <tr>\n",
       "      <th>16</th>\n",
       "      <td>MD + M</td>\n",
       "      <td>Moderate</td>\n",
       "      <td>360</td>\n",
       "    </tr>\n",
       "    <tr>\n",
       "      <th>17</th>\n",
       "      <td>MD + M</td>\n",
       "      <td>Low</td>\n",
       "      <td>280</td>\n",
       "    </tr>\n",
       "  </tbody>\n",
       "</table>\n",
       "</div>"
      ],
      "text/plain": [
       "   Combination Adaptivity Level  Count\n",
       "0        W + C             High     30\n",
       "1        W + C         Moderate     81\n",
       "2        W + C              Low     32\n",
       "3        W + T             High      2\n",
       "4        W + T         Moderate     26\n",
       "5        W + T              Low      2\n",
       "6        W + M             High     32\n",
       "7        W + M         Moderate    147\n",
       "8        W + M              Low    158\n",
       "9       MD + C             High      0\n",
       "10      MD + C         Moderate     11\n",
       "11      MD + C              Low      8\n",
       "12      MD + T             High      0\n",
       "13      MD + T         Moderate      0\n",
       "14      MD + T              Low      0\n",
       "15      MD + M             High     36\n",
       "16      MD + M         Moderate    360\n",
       "17      MD + M              Low    280"
      ]
     },
     "execution_count": 8,
     "metadata": {},
     "output_type": "execute_result"
    }
   ],
   "source": [
    "countDict = {\"Combination\" : [\"W + C\", \"W + C\", \"W + C\", \"W + T\", \"W + T\", \"W + T\", \"W + M\", \"W + M\", \"W + M\", \n",
    "                              \"MD + C\", \"MD + C\", \"MD + C\", \"MD + T\", \"MD + T\", \"MD + T\", \"MD + M\", \"MD + M\", \"MD + M\"], \n",
    "             \"Adaptivity Level\" : [\"High\", \"Moderate\", \"Low\", \"High\", \"Moderate\", \"Low\", \"High\", \"Moderate\", \"Low\", \n",
    "                                   \"High\", \"Moderate\", \"Low\", \"High\", \"Moderate\", \"Low\", \"High\", \"Moderate\", \"Low\"],\n",
    "             \"Count\" : [count1[0], count1[1], count1[2], count2[0], count2[1], count2[2], count3[0], count3[1], count3[2], \n",
    "                        count4[0], count4[1], count4[2], count5[0], count5[1], count5[2], count6[0], count6[1], count6[2]]\n",
    "            }\n",
    "\n",
    "countDF = pd.DataFrame(countDict)\n",
    "countDF"
   ]
  },
  {
   "cell_type": "code",
   "execution_count": 9,
   "metadata": {},
   "outputs": [
    {
     "data": {
      "text/plain": [
       "<seaborn.axisgrid.FacetGrid at 0x1437dd2f580>"
      ]
     },
     "execution_count": 9,
     "metadata": {},
     "output_type": "execute_result"
    },
    {
     "data": {
      "image/png": "[encoded data removed]",
      "text/plain": [
       "<Figure size 629.222x500 with 1 Axes>"
      ]
     },
     "metadata": {},
     "output_type": "display_data"
    }
   ],
   "source": [
    "# Construct a point plot\n",
    "sns.set_theme(style = \"whitegrid\")\n",
    "sns.catplot(data = countDF, x = \"Combination\", y = \"Count\", hue = \"Adaptivity Level\", kind = \"point\").set(title = \"Count of frequency for Low, Moderate and High Adaptivity Level for all Combination\")"
   ]
  },
  {
   "cell_type": "markdown",
   "metadata": {},
   "source": [
    "### **Observation from point plot:**\n",
    "\n",
    "**For the name of `Combination` on x-axis, please refer to the acronym description stated above**\n",
    "\n",
    "This plot is much better than the previous scatter plot because we can see the frequencies of high, moderate and low of `Adaptivity Level` for each combination. \n",
    "\n",
    "Combination of `MD + M` (Mobile Data and Mobile) produces significantly greater counts of Moderate and Low compared to the other combinations. This is mainly because out of all 6 subsets created above, `df6` (dedicated for Mobile Data and Mobile combination) has the most rows. So, it has a greater chance to return a higher count for all 3 levels. \n",
    "\n",
    "Overlapping data points indicate approximately equal count for different `Adaptivity Level` from the same combination. For instance, the combination of `W + C` (WiFi and Computer) and `W + T` (WiFi and Tab). Each of them has almost equal or equal count of High and Low.\n",
    "\n",
    "However, there is a problem. Unlike for low level, we are not be able to say which combination has the most count for high level because visually, all of those 3 blue points from combination of `W + C`, `W + M` and `MD + M` are approximately on the same height. Thus, we need another visualization that can certainly says which `Combination` has the most count for both low and high level of adaptation to online classes."
   ]
  },
  {
   "cell_type": "markdown",
   "metadata": {},
   "source": [
    "---"
   ]
  },
  {
   "cell_type": "markdown",
   "metadata": {},
   "source": [
    "Fortunately, we can use **countplot** which do the same thing but it allows us to get the visualization way faster because we do not have to wranggle our dataset to get the count values. Visually, it looks exactly like a barplot."
   ]
  },
  {
   "cell_type": "code",
   "execution_count": 12,
   "metadata": {},
   "outputs": [
    {
     "data": {
      "text/plain": [
       "[Text(0.5, 1.0, 'Count of frequency for all Combination based on their Adaptivity Level'),\n",
       " Text(0, 0.5, 'Count')]"
      ]
     },
     "execution_count": 12,
     "metadata": {},
     "output_type": "execute_result"
    },
    {
     "data": {
      "image/png": "[encoded data removed]",
      "text/plain": [
       "<Figure size 640x480 with 1 Axes>"
      ]
     },
     "metadata": {},
     "output_type": "display_data"
    }
   ],
   "source": [
    "sns.countplot(data = df, x = \"Adaptivity Level\", hue = \"Combination\").set(title = \"Count of frequency for all Combination based on their Adaptivity Level\", ylabel = \"Count\")"
   ]
  },
  {
   "cell_type": "markdown",
   "metadata": {},
   "source": [
    "### **Observation from countplot:**\n",
    "\n",
    "- Countplot gives us information on which `Combination` has the most count for both High and Low of `Adaptivity Level` based on the height of each bar.\n",
    "- Note that for each `Adaptivity Level`, there are at most 5 bars exist despite of 6 possible combinations from `Internet Type` and `Device`. Thus, it is safe to say those bars that are not exist have count of 0 because supposedly this plot presents the count as height of the bars. \n",
    "- For `Adaptivity Level = Low`, combination of `MD + M`(Mobile Data + Mobile) has the most count and the same combination has the most count of `Adaptivity Level = High`.\n",
    "- This single observation is enough to answer the resaerch question which conclude that combination of **mobile data and mobile** is the best and also the worst combination for students to adapt to online classes."
   ]
  },
  {
   "cell_type": "markdown",
   "metadata": {},
   "source": [
    "---"
   ]
  },
  {
   "cell_type": "markdown",
   "metadata": {},
   "source": [
    "Another alternative that might helps us to find the answer is by producing a **heatmap** visualization. It will be better to create 3 subsets from `countDF` based on `Adaptivity Level` because almost everything that we need for this visualization is already there except for 'Internet Type' and 'Device' columns. We will not use 'Combination' columns as it is not a suitable choice for a heatmap in this case."
   ]
  },
  {
   "cell_type": "code",
   "execution_count": null,
   "metadata": {},
   "outputs": [
    {
     "data": {
      "text/html": [
       "<div>\n",
       "<style scoped>\n",
       "    .dataframe tbody tr th:only-of-type {\n",
       "        vertical-align: middle;\n",
       "    }\n",
       "\n",
       "    .dataframe tbody tr th {\n",
       "        vertical-align: top;\n",
       "    }\n",
       "\n",
       "    .dataframe thead th {\n",
       "        text-align: right;\n",
       "    }\n",
       "</style>\n",
       "<table border=\"1\" class=\"dataframe\">\n",
       "  <thead>\n",
       "    <tr style=\"text-align: right;\">\n",
       "      <th></th>\n",
       "      <th>Combination</th>\n",
       "      <th>Adaptivity Level</th>\n",
       "      <th>Count</th>\n",
       "      <th>Internet Type</th>\n",
       "      <th>Device</th>\n",
       "    </tr>\n",
       "  </thead>\n",
       "  <tbody>\n",
       "    <tr>\n",
       "      <th>0</th>\n",
       "      <td>W + C</td>\n",
       "      <td>High</td>\n",
       "      <td>30</td>\n",
       "      <td>WiFi</td>\n",
       "      <td>Computer</td>\n",
       "    </tr>\n",
       "    <tr>\n",
       "      <th>1</th>\n",
       "      <td>W + C</td>\n",
       "      <td>Moderate</td>\n",
       "      <td>81</td>\n",
       "      <td>WiFi</td>\n",
       "      <td>Computer</td>\n",
       "    </tr>\n",
       "    <tr>\n",
       "      <th>2</th>\n",
       "      <td>W + C</td>\n",
       "      <td>Low</td>\n",
       "      <td>32</td>\n",
       "      <td>WiFi</td>\n",
       "      <td>Computer</td>\n",
       "    </tr>\n",
       "    <tr>\n",
       "      <th>3</th>\n",
       "      <td>W + T</td>\n",
       "      <td>High</td>\n",
       "      <td>2</td>\n",
       "      <td>WiFi</td>\n",
       "      <td>Tab</td>\n",
       "    </tr>\n",
       "    <tr>\n",
       "      <th>4</th>\n",
       "      <td>W + T</td>\n",
       "      <td>Moderate</td>\n",
       "      <td>26</td>\n",
       "      <td>WiFi</td>\n",
       "      <td>Tab</td>\n",
       "    </tr>\n",
       "    <tr>\n",
       "      <th>5</th>\n",
       "      <td>W + T</td>\n",
       "      <td>Low</td>\n",
       "      <td>2</td>\n",
       "      <td>WiFi</td>\n",
       "      <td>Tab</td>\n",
       "    </tr>\n",
       "    <tr>\n",
       "      <th>6</th>\n",
       "      <td>W + M</td>\n",
       "      <td>High</td>\n",
       "      <td>32</td>\n",
       "      <td>WiFi</td>\n",
       "      <td>Mobile</td>\n",
       "    </tr>\n",
       "    <tr>\n",
       "      <th>7</th>\n",
       "      <td>W + M</td>\n",
       "      <td>Moderate</td>\n",
       "      <td>147</td>\n",
       "      <td>WiFi</td>\n",
       "      <td>Mobile</td>\n",
       "    </tr>\n",
       "    <tr>\n",
       "      <th>8</th>\n",
       "      <td>W + M</td>\n",
       "      <td>Low</td>\n",
       "      <td>158</td>\n",
       "      <td>WiFi</td>\n",
       "      <td>Mobile</td>\n",
       "    </tr>\n",
       "    <tr>\n",
       "      <th>9</th>\n",
       "      <td>MD + C</td>\n",
       "      <td>High</td>\n",
       "      <td>0</td>\n",
       "      <td>Mobile Data</td>\n",
       "      <td>Computer</td>\n",
       "    </tr>\n",
       "    <tr>\n",
       "      <th>10</th>\n",
       "      <td>MD + C</td>\n",
       "      <td>Moderate</td>\n",
       "      <td>11</td>\n",
       "      <td>Mobile Data</td>\n",
       "      <td>Computer</td>\n",
       "    </tr>\n",
       "    <tr>\n",
       "      <th>11</th>\n",
       "      <td>MD + C</td>\n",
       "      <td>Low</td>\n",
       "      <td>8</td>\n",
       "      <td>Mobile Data</td>\n",
       "      <td>Computer</td>\n",
       "    </tr>\n",
       "    <tr>\n",
       "      <th>12</th>\n",
       "      <td>MD + T</td>\n",
       "      <td>High</td>\n",
       "      <td>0</td>\n",
       "      <td>Mobile Data</td>\n",
       "      <td>Tab</td>\n",
       "    </tr>\n",
       "    <tr>\n",
       "      <th>13</th>\n",
       "      <td>MD + T</td>\n",
       "      <td>Moderate</td>\n",
       "      <td>0</td>\n",
       "      <td>Mobile Data</td>\n",
       "      <td>Tab</td>\n",
       "    </tr>\n",
       "    <tr>\n",
       "      <th>14</th>\n",
       "      <td>MD + T</td>\n",
       "      <td>Low</td>\n",
       "      <td>0</td>\n",
       "      <td>Mobile Data</td>\n",
       "      <td>Tab</td>\n",
       "    </tr>\n",
       "    <tr>\n",
       "      <th>15</th>\n",
       "      <td>MD + M</td>\n",
       "      <td>High</td>\n",
       "      <td>36</td>\n",
       "      <td>Mobile Data</td>\n",
       "      <td>Mobile</td>\n",
       "    </tr>\n",
       "    <tr>\n",
       "      <th>16</th>\n",
       "      <td>MD + M</td>\n",
       "      <td>Moderate</td>\n",
       "      <td>360</td>\n",
       "      <td>Mobile Data</td>\n",
       "      <td>Mobile</td>\n",
       "    </tr>\n",
       "    <tr>\n",
       "      <th>17</th>\n",
       "      <td>MD + M</td>\n",
       "      <td>Low</td>\n",
       "      <td>280</td>\n",
       "      <td>Mobile Data</td>\n",
       "      <td>Mobile</td>\n",
       "    </tr>\n",
       "  </tbody>\n",
       "</table>\n",
       "</div>"
      ],
      "text/plain": [
       "   Combination Adaptivity Level  Count Internet Type    Device\n",
       "0        W + C             High     30          WiFi  Computer\n",
       "1        W + C         Moderate     81          WiFi  Computer\n",
       "2        W + C              Low     32          WiFi  Computer\n",
       "3        W + T             High      2          WiFi       Tab\n",
       "4        W + T         Moderate     26          WiFi       Tab\n",
       "5        W + T              Low      2          WiFi       Tab\n",
       "6        W + M             High     32          WiFi    Mobile\n",
       "7        W + M         Moderate    147          WiFi    Mobile\n",
       "8        W + M              Low    158          WiFi    Mobile\n",
       "9       MD + C             High      0   Mobile Data  Computer\n",
       "10      MD + C         Moderate     11   Mobile Data  Computer\n",
       "11      MD + C              Low      8   Mobile Data  Computer\n",
       "12      MD + T             High      0   Mobile Data       Tab\n",
       "13      MD + T         Moderate      0   Mobile Data       Tab\n",
       "14      MD + T              Low      0   Mobile Data       Tab\n",
       "15      MD + M             High     36   Mobile Data    Mobile\n",
       "16      MD + M         Moderate    360   Mobile Data    Mobile\n",
       "17      MD + M              Low    280   Mobile Data    Mobile"
      ]
     },
     "execution_count": null,
     "metadata": {},
     "output_type": "execute_result"
    }
   ],
   "source": [
    "countDF[\"Internet Type\"] = [\"WiFi\", \"WiFi\", \"WiFi\", \"WiFi\", \"WiFi\", \"WiFi\", \"WiFi\", \"WiFi\", \"WiFi\", \n",
    "                            \"Mobile Data\", \"Mobile Data\", \"Mobile Data\", \"Mobile Data\", \"Mobile Data\", \"Mobile Data\", \"Mobile Data\", \"Mobile Data\", \"Mobile Data\"]\n",
    "\n",
    "countDF[\"Device\"] = [\"Computer\", \"Computer\", \"Computer\", \"Tab\", \"Tab\", \"Tab\", \"Mobile\", \"Mobile\", \"Mobile\", \n",
    "                     \"Computer\", \"Computer\", \"Computer\", \"Tab\", \"Tab\", \"Tab\", \"Mobile\", \"Mobile\", \"Mobile\"]\n",
    "\n",
    "countDF"
   ]
  },
  {
   "cell_type": "code",
   "execution_count": null,
   "metadata": {},
   "outputs": [],
   "source": [
    "high = countDF[countDF[\"Adaptivity Level\"] == \"High\"]\n",
    "moderate = countDF[countDF[\"Adaptivity Level\"] == \"Moderate\"]\n",
    "low = countDF[countDF[\"Adaptivity Level\"] == \"Low\"]"
   ]
  },
  {
   "cell_type": "code",
   "execution_count": null,
   "metadata": {},
   "outputs": [
    {
     "name": "stderr",
     "output_type": "stream",
     "text": [
      "C:\\Users\\ACER\\AppData\\Local\\Temp\\ipykernel_7932\\2210306877.py:1: FutureWarning: In a future version of pandas all arguments of DataFrame.pivot will be keyword-only.\n",
      "  (sns.heatmap(data = high.pivot(\"Device\", \"Internet Type\", \"Count\"), annot = True, cmap = sns.color_palette(\"crest\", as_cmap = True))\n"
     ]
    },
    {
     "data": {
      "text/plain": [
       "[Text(0.5, 1.0, 'Count for Device and Internet Type combination for High Adaptivity Level'),\n",
       " Text(0.5, 20.049999999999997, ''),\n",
       " Text(47.25, 0.5, '')]"
      ]
     },
     "execution_count": null,
     "metadata": {},
     "output_type": "execute_result"
    },
    {
     "data": {
      "image/png": "[encoded data removed]",
      "text/plain": [
       "<Figure size 640x480 with 2 Axes>"
      ]
     },
     "metadata": {},
     "output_type": "display_data"
    }
   ],
   "source": [
    "(sns.heatmap(data = high.pivot(\"Device\", \"Internet Type\", \"Count\"), annot = True, cmap = sns.color_palette(\"crest\", as_cmap = True))\n",
    "    .set(title = \"Count for Device and Internet Type combination for High Adaptivity Level\", xlabel = \"\", ylabel = \"\")\n",
    ")"
   ]
  },
  {
   "cell_type": "code",
   "execution_count": null,
   "metadata": {},
   "outputs": [
    {
     "name": "stderr",
     "output_type": "stream",
     "text": [
      "C:\\Users\\ACER\\AppData\\Local\\Temp\\ipykernel_7932\\827653194.py:1: FutureWarning: In a future version of pandas all arguments of DataFrame.pivot will be keyword-only.\n",
      "  (sns.heatmap(data = moderate.pivot(\"Device\", \"Internet Type\", \"Count\"), annot = True, cmap = sns.color_palette(\"crest\", as_cmap = True), fmt = \"g\")\n"
     ]
    },
    {
     "data": {
      "text/plain": [
       "[Text(0.5, 1.0, 'Count for Device and Internet Type combination for Moderate Adaptivity Level'),\n",
       " Text(0.5, 20.049999999999997, ''),\n",
       " Text(47.25, 0.5, '')]"
      ]
     },
     "execution_count": null,
     "metadata": {},
     "output_type": "execute_result"
    },
    {
     "data": {
      "image/png": "[encoded data removed]",
      "text/plain": [
       "<Figure size 640x480 with 2 Axes>"
      ]
     },
     "metadata": {},
     "output_type": "display_data"
    }
   ],
   "source": [
    "(sns.heatmap(data = moderate.pivot(\"Device\", \"Internet Type\", \"Count\"), annot = True, cmap = sns.color_palette(\"crest\", as_cmap = True), fmt = \"g\")\n",
    "    .set(title = \"Count for Device and Internet Type combination for Moderate Adaptivity Level\", xlabel = \"\", ylabel = \"\")\n",
    ")"
   ]
  },
  {
   "cell_type": "code",
   "execution_count": null,
   "metadata": {},
   "outputs": [
    {
     "name": "stderr",
     "output_type": "stream",
     "text": [
      "C:\\Users\\ACER\\AppData\\Local\\Temp\\ipykernel_7932\\2519785177.py:1: FutureWarning: In a future version of pandas all arguments of DataFrame.pivot will be keyword-only.\n",
      "  (sns.heatmap(data = low.pivot(\"Device\", \"Internet Type\", \"Count\"), annot = True, cmap = sns.color_palette(\"crest\", as_cmap = True), fmt = \"g\")\n"
     ]
    },
    {
     "data": {
      "text/plain": [
       "[Text(0.5, 1.0, 'Count for Device and Internet Type combination for Low Adaptivity Level'),\n",
       " Text(0.5, 20.049999999999997, ''),\n",
       " Text(47.25, 0.5, '')]"
      ]
     },
     "execution_count": null,
     "metadata": {},
     "output_type": "execute_result"
    },
    {
     "data": {
      "image/png": "[encoded data removed]",
      "text/plain": [
       "<Figure size 640x480 with 2 Axes>"
      ]
     },
     "metadata": {},
     "output_type": "display_data"
    }
   ],
   "source": [
    "(sns.heatmap(data = low.pivot(\"Device\", \"Internet Type\", \"Count\"), annot = True, cmap = sns.color_palette(\"crest\", as_cmap = True), fmt = \"g\")\n",
    "    .set(title = \"Count for Device and Internet Type combination for Low Adaptivity Level\", xlabel = \"\", ylabel = \"\")\n",
    ")"
   ]
  },
  {
   "cell_type": "markdown",
   "metadata": {},
   "source": [
    "### **Observation from heatmap:**\n",
    "\n",
    "- From the first heatmap, combination of `Mobile Data` and `Mobile` has the maximum count of 36 for high `Adaptivity Level`.\n",
    "- Meanwhile, from the third heatmap, the same combination has the maximum count of 280 for low `Adaptivity Level`.\n",
    "- As expected, heatmap can answer our question just like countplot and fortunatley, both visualization return the same answer. However, heatmap answer the question by presenting the digits and we need more than one heatmap to do so."
   ]
  },
  {
   "cell_type": "markdown",
   "metadata": {},
   "source": [
    "---"
   ]
  },
  {
   "cell_type": "markdown",
   "metadata": {},
   "source": [
    "Realistically, it is strange to see the combination of mobile data as `Internet Type` and mobile phone as `Device` become the best combination to adapt to online classes because mobile phone has the smallest width of screen compared to a computer and a tablet. Besides, the connection stability of mobile data is also unreliable all the time because it is limited and highly influenced by its location unlike Wi-Fi. \n",
    "\n",
    "However, it is acceptable to claim this combination is the worst to adapt to online education due to the same reason. \n",
    "\n",
    "Probably the subset size of this combination influence it to have the most count for both high and low level of adaptivity (refer to the cells below)."
   ]
  },
  {
   "cell_type": "markdown",
   "metadata": {},
   "source": [
    "In previous point plot, we created 6 subsets that dedicated to 6 different combinations (df1, df2, df3, df4, df5, df6). Now, we would like to prove that combination of Mobile Data and Mobile has the most frequency out of all combinations.\n",
    "\n",
    "As a refresher, below are the information of what combination is dedicated in each subset:\n",
    "- df1 : W + C (WiFi and Computer)\n",
    "- df2 : W + T (WiFi and Tab)\n",
    "- df3 : W + M (WiFi and Mobile)\n",
    "- df4 : MD + C (Mobile Data and Computer)\n",
    "- df5 : MD + T (Mobile Data and Tab)\n",
    "- df6 : MD + M (Mobile Data and Mobile)"
   ]
  },
  {
   "cell_type": "code",
   "execution_count": 22,
   "metadata": {},
   "outputs": [
    {
     "data": {
      "text/html": [
       "<div>\n",
       "<style scoped>\n",
       "    .dataframe tbody tr th:only-of-type {\n",
       "        vertical-align: middle;\n",
       "    }\n",
       "\n",
       "    .dataframe tbody tr th {\n",
       "        vertical-align: top;\n",
       "    }\n",
       "\n",
       "    .dataframe thead th {\n",
       "        text-align: right;\n",
       "    }\n",
       "</style>\n",
       "<table border=\"1\" class=\"dataframe\">\n",
       "  <thead>\n",
       "    <tr style=\"text-align: right;\">\n",
       "      <th></th>\n",
       "      <th>Combination</th>\n",
       "      <th>Subset size</th>\n",
       "    </tr>\n",
       "  </thead>\n",
       "  <tbody>\n",
       "    <tr>\n",
       "      <th>0</th>\n",
       "      <td>Wifi and Computer</td>\n",
       "      <td>143</td>\n",
       "    </tr>\n",
       "    <tr>\n",
       "      <th>1</th>\n",
       "      <td>Wifi and Tab</td>\n",
       "      <td>30</td>\n",
       "    </tr>\n",
       "    <tr>\n",
       "      <th>2</th>\n",
       "      <td>WiFi and Mobile</td>\n",
       "      <td>337</td>\n",
       "    </tr>\n",
       "    <tr>\n",
       "      <th>3</th>\n",
       "      <td>Mobile Data and Computer</td>\n",
       "      <td>19</td>\n",
       "    </tr>\n",
       "    <tr>\n",
       "      <th>4</th>\n",
       "      <td>Mobile Data and Tab</td>\n",
       "      <td>0</td>\n",
       "    </tr>\n",
       "    <tr>\n",
       "      <th>5</th>\n",
       "      <td>Mobile Data and Mobile</td>\n",
       "      <td>676</td>\n",
       "    </tr>\n",
       "  </tbody>\n",
       "</table>\n",
       "</div>"
      ],
      "text/plain": [
       "                Combination  Subset size\n",
       "0         Wifi and Computer          143\n",
       "1              Wifi and Tab           30\n",
       "2           WiFi and Mobile          337\n",
       "3  Mobile Data and Computer           19\n",
       "4       Mobile Data and Tab            0\n",
       "5    Mobile Data and Mobile          676"
      ]
     },
     "execution_count": 22,
     "metadata": {},
     "output_type": "execute_result"
    }
   ],
   "source": [
    "countSubset = {\"Combination\" : [\"Wifi and Computer\", \"Wifi and Tab\", \"WiFi and Mobile\", \"Mobile Data and Computer\", \"Mobile Data and Tab\", \"Mobile Data and Mobile\"],\n",
    "               \"Subset size\" : [len(df1.index), len(df2.index), len(df3.index), len(df4.index), len(df5.index), len(df6.index)]}\n",
    "\n",
    "countSubset = pd.DataFrame(countSubset)\n",
    "countSubset"
   ]
  },
  {
   "cell_type": "markdown",
   "metadata": {},
   "source": [
    "Based on the dataframe above, it is obvious that combination of mobile data and mobile has the most size (676 rows) out of all possible combination."
   ]
  },
  {
   "cell_type": "markdown",
   "metadata": {},
   "source": [
    "Does the difference of subset size is the only reason that leads to this result? Thus, I would like to investigate this result further by adding a sub-question which is: \n",
    "\n",
    "### Sub-question: Does combination of mobile data and mobile phone has the most count for 4G network?\n",
    "\n",
    "The reason why I choose `Network Type` as the manipulated variable is because despite having mobile data as their `Internet Type`, it is possible for them to be the group of students who has 4G network (the fastest internet network in this dataset) the most. To answer this question, we will observe if this combination of `Internet Type` and `Device` has the most count for 4G."
   ]
  },
  {
   "cell_type": "code",
   "execution_count": 25,
   "metadata": {},
   "outputs": [
    {
     "data": {
      "text/plain": [
       "[Text(0.5, 1.0, 'Count of Network Type based on Combination'),\n",
       " Text(0, 0.5, 'Count')]"
      ]
     },
     "execution_count": 25,
     "metadata": {},
     "output_type": "execute_result"
    },
    {
     "data": {
      "image/png": "[encoded data removed]",
      "text/plain": [
       "<Figure size 640x480 with 1 Axes>"
      ]
     },
     "metadata": {},
     "output_type": "display_data"
    }
   ],
   "source": [
    "sns.countplot(data = df, x = \"Combination\", hue = \"Network Type\").set(title = \"Count of Network Type based on Combination\", ylabel = \"Count\")"
   ]
  },
  {
   "cell_type": "markdown",
   "metadata": {},
   "source": [
    "### Observation from countplot:\n",
    "\n",
    "- Combination of `MD + M`(Mobile Data & Mobile) has the most count for 4G network and also 2G network.\n",
    "- This answer our curiosity on why does this combination happen to be the best and at the same time, the worst combination to adapt to online classes. According to the plot, it has the most count for the fastest(4G) and slowest(2G) internet network in the dataset"
   ]
  },
  {
   "cell_type": "markdown",
   "metadata": {},
   "source": [
    "---\n",
    "## Conclusion\n",
    "\n",
    "- Combination of **mobile data and mobile phone** is the best and the wost combination for a group of students from Bangladesh to adapt to their online classes.\n",
    "- Due to the physical properties of mobile phone and the limitation of mobile data, it is understandable why both of them become the worst combination out of all possible combination.\n",
    "- However, it is strange to see the same combination also is the best one and the reason is students with this combination are the one who experience 4G network the most. \n",
    "- Thus, it is clear now that combination of `Internet Type` and `Device` is not enough to determine students' `Adaptivity Level` because `Network Type` also is a strong influence to the observed variable."
   ]
  }
 ],
 "metadata": {
  "kernelspec": {
   "display_name": "Python 3 (ipykernel)",
   "language": "python",
   "name": "python3"
  },
  "language_info": {
   "codemirror_mode": {
    "name": "ipython",
    "version": 3
   },
   "file_extension": ".py",
   "mimetype": "text/x-python",
   "name": "python",
   "nbconvert_exporter": "python",
   "pygments_lexer": "ipython3",
   "version": "3.10.9"
  }
 },
 "nbformat": 4,
 "nbformat_minor": 4
}
