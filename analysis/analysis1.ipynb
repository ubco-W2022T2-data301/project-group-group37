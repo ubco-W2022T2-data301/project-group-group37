{
 "cells": [
  {
   "cell_type": "markdown",
   "source": [
    "# Darvesh Singh Dhillon"
   ],
   "metadata": {}
  },
  {
   "cell_type": "markdown",
   "source": [
    "## Research question/interests\r\n",
    "\r\n",
    "Briefly describe your research question or interests here."
   ],
   "metadata": {}
  }
 ],
 "metadata": {
  "orig_nbformat": 4,
  "language_info": {
   "name": "plaintext"
  }
 },
 "nbformat": 4,
 "nbformat_minor": 2
}
