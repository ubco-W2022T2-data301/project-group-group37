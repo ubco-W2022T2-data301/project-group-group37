{
 "cells": [
  {
   "cell_type": "markdown",
   "metadata": {},
   "source": [
    "# Darvesh Singh Dhillon"
   ]
  },
  {
   "cell_type": "markdown",
   "metadata": {},
   "source": [
    "### How does someone's Socio-Economic Condition affect their Educational Adaptability? In particular, their Gender, Age, Financial Condition, and Location.\n",
    "\n",
    "I will be looking at the Age, Gender, Financial Condition, and Location Variables from the Adaptability Dataset. I will be dropping the rest of the columns so I can focus on just the 4 columns I want to compare with the adaptability levels. I will be creating scatterplots with each variable against the adaptability level and compare the slopes of the line(s) of best fit(s). This comparison will show which factor likely affects a person's adaptability level the most. I also want to find a good way to create a weighted score based on the answers provided by students and compared the weighted score for each gender, age, financial condition, and location possibility. If this becomes too much data for me to process for this project, then I may end up dropping a column, most likely the location."
   ]
  },
  {
   "cell_type": "code",
   "execution_count": null,
   "metadata": {},
   "outputs": [],
   "source": []
  }
 ],
 "metadata": {
  "kernelspec": {
   "display_name": "Python 3 (ipykernel)",
   "language": "python",
   "name": "python3"
  }
 },
 "nbformat": 4,
 "nbformat_minor": 4
}
