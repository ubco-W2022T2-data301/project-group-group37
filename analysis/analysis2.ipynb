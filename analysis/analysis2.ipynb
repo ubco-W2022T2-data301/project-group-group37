{
 "cells": [
  {
   "cell_type": "markdown",
   "metadata": {},
   "source": [
    "# Shawn Goh"
   ]
  },
  {
   "cell_type": "markdown",
   "metadata": {},
   "source": [
    "## How does the maturity level of students affect their adaptability to online learning\n",
    "\n",
    "Personally, I felt I became more interested in learning as I grew older, and especially when I entered collage where I am taking courses that are slightly more specialzed in topics I am personally interested about. This led me to wonder if different maturity level might affect how adaptable students are to online learning, and I plan to look for any correlation between age/education level and their adaptability to online learning. Firstly I would need a good way to define maturity. For example, should it be more based on age or education level? Besides, would other factors possibly play a part, such as gender? With that in mind, I can then compare how adaptable students are to online learning with some visualisation, possibly a box plot. "
   ]
  },
  {
   "cell_type": "code",
   "execution_count": 12,
   "metadata": {},
   "outputs": [],
   "source": [
    "import pandas as pd\n",
    "import numpy as np\n",
    "\n",
    "def create_numeric_adaptibility():\n",
    "    numeric_var = {\"Numeric Adaptability\":{\"Low\":0, \"Moderate\":1, \"High\":2}}\n",
    "    df[\"Numeric Adaptability\"] = df[\"Adaptivity Level\"]\n",
    "    df = df.replace(numeric_var)\n",
    "\n",
    "def load_dataset(path):\n",
    "    df = (pd.read_csv(path)\n",
    "          .drop([\"Gender\", \"Institution Type\", \"IT Student\", \"Location\", \"Load-shedding\", \"Financial Condition\", \"Internet Type\", \"Network Type\", \"Class Duration\", \"Device\"], axis = \"columns\")\n",
    "          .create_numeric_adaptibility())\n",
    "          \n",
    "    return df"
   ]
  },
  {
   "cell_type": "code",
   "execution_count": 4,
   "metadata": {},
   "outputs": [
    {
     "data": {
      "text/html": [
       "<div>\n",
       "<style scoped>\n",
       "    .dataframe tbody tr th:only-of-type {\n",
       "        vertical-align: middle;\n",
       "    }\n",
       "\n",
       "    .dataframe tbody tr th {\n",
       "        vertical-align: top;\n",
       "    }\n",
       "\n",
       "    .dataframe thead th {\n",
       "        text-align: right;\n",
       "    }\n",
       "</style>\n",
       "<table border=\"1\" class=\"dataframe\">\n",
       "  <thead>\n",
       "    <tr style=\"text-align: right;\">\n",
       "      <th></th>\n",
       "      <th>Gender</th>\n",
       "      <th>Age</th>\n",
       "      <th>Education Level</th>\n",
       "      <th>Institution Type</th>\n",
       "      <th>IT Student</th>\n",
       "      <th>Location</th>\n",
       "      <th>Load-shedding</th>\n",
       "      <th>Financial Condition</th>\n",
       "      <th>Internet Type</th>\n",
       "      <th>Network Type</th>\n",
       "      <th>Class Duration</th>\n",
       "      <th>Self Lms</th>\n",
       "      <th>Device</th>\n",
       "      <th>Adaptivity Level</th>\n",
       "    </tr>\n",
       "  </thead>\n",
       "  <tbody>\n",
       "    <tr>\n",
       "      <th>0</th>\n",
       "      <td>Boy</td>\n",
       "      <td>21-25</td>\n",
       "      <td>University</td>\n",
       "      <td>Non Government</td>\n",
       "      <td>No</td>\n",
       "      <td>Yes</td>\n",
       "      <td>Low</td>\n",
       "      <td>Mid</td>\n",
       "      <td>Wifi</td>\n",
       "      <td>4G</td>\n",
       "      <td>3-6</td>\n",
       "      <td>No</td>\n",
       "      <td>Tab</td>\n",
       "      <td>Moderate</td>\n",
       "    </tr>\n",
       "    <tr>\n",
       "      <th>1</th>\n",
       "      <td>Girl</td>\n",
       "      <td>21-25</td>\n",
       "      <td>University</td>\n",
       "      <td>Non Government</td>\n",
       "      <td>No</td>\n",
       "      <td>Yes</td>\n",
       "      <td>High</td>\n",
       "      <td>Mid</td>\n",
       "      <td>Mobile Data</td>\n",
       "      <td>4G</td>\n",
       "      <td>1-3</td>\n",
       "      <td>Yes</td>\n",
       "      <td>Mobile</td>\n",
       "      <td>Moderate</td>\n",
       "    </tr>\n",
       "    <tr>\n",
       "      <th>2</th>\n",
       "      <td>Girl</td>\n",
       "      <td>16-20</td>\n",
       "      <td>College</td>\n",
       "      <td>Government</td>\n",
       "      <td>No</td>\n",
       "      <td>Yes</td>\n",
       "      <td>Low</td>\n",
       "      <td>Mid</td>\n",
       "      <td>Wifi</td>\n",
       "      <td>4G</td>\n",
       "      <td>1-3</td>\n",
       "      <td>No</td>\n",
       "      <td>Mobile</td>\n",
       "      <td>Moderate</td>\n",
       "    </tr>\n",
       "    <tr>\n",
       "      <th>3</th>\n",
       "      <td>Girl</td>\n",
       "      <td>11-15</td>\n",
       "      <td>School</td>\n",
       "      <td>Non Government</td>\n",
       "      <td>No</td>\n",
       "      <td>Yes</td>\n",
       "      <td>Low</td>\n",
       "      <td>Mid</td>\n",
       "      <td>Mobile Data</td>\n",
       "      <td>4G</td>\n",
       "      <td>1-3</td>\n",
       "      <td>No</td>\n",
       "      <td>Mobile</td>\n",
       "      <td>Moderate</td>\n",
       "    </tr>\n",
       "    <tr>\n",
       "      <th>4</th>\n",
       "      <td>Girl</td>\n",
       "      <td>16-20</td>\n",
       "      <td>School</td>\n",
       "      <td>Non Government</td>\n",
       "      <td>No</td>\n",
       "      <td>Yes</td>\n",
       "      <td>Low</td>\n",
       "      <td>Poor</td>\n",
       "      <td>Mobile Data</td>\n",
       "      <td>3G</td>\n",
       "      <td>0</td>\n",
       "      <td>No</td>\n",
       "      <td>Mobile</td>\n",
       "      <td>Low</td>\n",
       "    </tr>\n",
       "    <tr>\n",
       "      <th>...</th>\n",
       "      <td>...</td>\n",
       "      <td>...</td>\n",
       "      <td>...</td>\n",
       "      <td>...</td>\n",
       "      <td>...</td>\n",
       "      <td>...</td>\n",
       "      <td>...</td>\n",
       "      <td>...</td>\n",
       "      <td>...</td>\n",
       "      <td>...</td>\n",
       "      <td>...</td>\n",
       "      <td>...</td>\n",
       "      <td>...</td>\n",
       "      <td>...</td>\n",
       "    </tr>\n",
       "    <tr>\n",
       "      <th>1200</th>\n",
       "      <td>Girl</td>\n",
       "      <td>16-20</td>\n",
       "      <td>College</td>\n",
       "      <td>Non Government</td>\n",
       "      <td>No</td>\n",
       "      <td>Yes</td>\n",
       "      <td>Low</td>\n",
       "      <td>Mid</td>\n",
       "      <td>Wifi</td>\n",
       "      <td>4G</td>\n",
       "      <td>1-3</td>\n",
       "      <td>No</td>\n",
       "      <td>Mobile</td>\n",
       "      <td>Low</td>\n",
       "    </tr>\n",
       "    <tr>\n",
       "      <th>1201</th>\n",
       "      <td>Girl</td>\n",
       "      <td>16-20</td>\n",
       "      <td>College</td>\n",
       "      <td>Non Government</td>\n",
       "      <td>No</td>\n",
       "      <td>No</td>\n",
       "      <td>High</td>\n",
       "      <td>Mid</td>\n",
       "      <td>Wifi</td>\n",
       "      <td>4G</td>\n",
       "      <td>3-6</td>\n",
       "      <td>No</td>\n",
       "      <td>Mobile</td>\n",
       "      <td>Moderate</td>\n",
       "    </tr>\n",
       "    <tr>\n",
       "      <th>1202</th>\n",
       "      <td>Boy</td>\n",
       "      <td>11-15</td>\n",
       "      <td>School</td>\n",
       "      <td>Non Government</td>\n",
       "      <td>No</td>\n",
       "      <td>Yes</td>\n",
       "      <td>Low</td>\n",
       "      <td>Mid</td>\n",
       "      <td>Mobile Data</td>\n",
       "      <td>3G</td>\n",
       "      <td>1-3</td>\n",
       "      <td>No</td>\n",
       "      <td>Mobile</td>\n",
       "      <td>Moderate</td>\n",
       "    </tr>\n",
       "    <tr>\n",
       "      <th>1203</th>\n",
       "      <td>Girl</td>\n",
       "      <td>16-20</td>\n",
       "      <td>College</td>\n",
       "      <td>Non Government</td>\n",
       "      <td>No</td>\n",
       "      <td>No</td>\n",
       "      <td>Low</td>\n",
       "      <td>Mid</td>\n",
       "      <td>Wifi</td>\n",
       "      <td>4G</td>\n",
       "      <td>1-3</td>\n",
       "      <td>No</td>\n",
       "      <td>Mobile</td>\n",
       "      <td>Low</td>\n",
       "    </tr>\n",
       "    <tr>\n",
       "      <th>1204</th>\n",
       "      <td>Girl</td>\n",
       "      <td>11-15</td>\n",
       "      <td>School</td>\n",
       "      <td>Non Government</td>\n",
       "      <td>No</td>\n",
       "      <td>Yes</td>\n",
       "      <td>Low</td>\n",
       "      <td>Poor</td>\n",
       "      <td>Mobile Data</td>\n",
       "      <td>3G</td>\n",
       "      <td>1-3</td>\n",
       "      <td>No</td>\n",
       "      <td>Mobile</td>\n",
       "      <td>Moderate</td>\n",
       "    </tr>\n",
       "  </tbody>\n",
       "</table>\n",
       "<p>1205 rows × 14 columns</p>\n",
       "</div>"
      ],
      "text/plain": [
       "     Gender    Age Education Level Institution Type IT Student Location  \\\n",
       "0       Boy  21-25      University   Non Government         No      Yes   \n",
       "1      Girl  21-25      University   Non Government         No      Yes   \n",
       "2      Girl  16-20         College       Government         No      Yes   \n",
       "3      Girl  11-15          School   Non Government         No      Yes   \n",
       "4      Girl  16-20          School   Non Government         No      Yes   \n",
       "...     ...    ...             ...              ...        ...      ...   \n",
       "1200   Girl  16-20         College   Non Government         No      Yes   \n",
       "1201   Girl  16-20         College   Non Government         No       No   \n",
       "1202    Boy  11-15          School   Non Government         No      Yes   \n",
       "1203   Girl  16-20         College   Non Government         No       No   \n",
       "1204   Girl  11-15          School   Non Government         No      Yes   \n",
       "\n",
       "     Load-shedding Financial Condition Internet Type Network Type  \\\n",
       "0              Low                 Mid          Wifi           4G   \n",
       "1             High                 Mid   Mobile Data           4G   \n",
       "2              Low                 Mid          Wifi           4G   \n",
       "3              Low                 Mid   Mobile Data           4G   \n",
       "4              Low                Poor   Mobile Data           3G   \n",
       "...            ...                 ...           ...          ...   \n",
       "1200           Low                 Mid          Wifi           4G   \n",
       "1201          High                 Mid          Wifi           4G   \n",
       "1202           Low                 Mid   Mobile Data           3G   \n",
       "1203           Low                 Mid          Wifi           4G   \n",
       "1204           Low                Poor   Mobile Data           3G   \n",
       "\n",
       "     Class Duration Self Lms  Device Adaptivity Level  \n",
       "0               3-6       No     Tab         Moderate  \n",
       "1               1-3      Yes  Mobile         Moderate  \n",
       "2               1-3       No  Mobile         Moderate  \n",
       "3               1-3       No  Mobile         Moderate  \n",
       "4                 0       No  Mobile              Low  \n",
       "...             ...      ...     ...              ...  \n",
       "1200            1-3       No  Mobile              Low  \n",
       "1201            3-6       No  Mobile         Moderate  \n",
       "1202            1-3       No  Mobile         Moderate  \n",
       "1203            1-3       No  Mobile              Low  \n",
       "1204            1-3       No  Mobile         Moderate  \n",
       "\n",
       "[1205 rows x 14 columns]"
      ]
     },
     "execution_count": 4,
     "metadata": {},
     "output_type": "execute_result"
    }
   ],
   "source": [
    "import pandas as pd\n",
    "import seaborn as sns\n",
    "\n",
    "mainDF = pd.read_csv(\"../data/raw/adaptability.csv\")\n",
    "mainDF"
   ]
  },
  {
   "cell_type": "code",
   "execution_count": 5,
   "metadata": {},
   "outputs": [
    {
     "data": {
      "text/html": [
       "<div>\n",
       "<style scoped>\n",
       "    .dataframe tbody tr th:only-of-type {\n",
       "        vertical-align: middle;\n",
       "    }\n",
       "\n",
       "    .dataframe tbody tr th {\n",
       "        vertical-align: top;\n",
       "    }\n",
       "\n",
       "    .dataframe thead th {\n",
       "        text-align: right;\n",
       "    }\n",
       "</style>\n",
       "<table border=\"1\" class=\"dataframe\">\n",
       "  <thead>\n",
       "    <tr style=\"text-align: right;\">\n",
       "      <th></th>\n",
       "      <th>Age</th>\n",
       "      <th>Education Level</th>\n",
       "      <th>Self Lms</th>\n",
       "      <th>Adaptivity Level</th>\n",
       "    </tr>\n",
       "  </thead>\n",
       "  <tbody>\n",
       "    <tr>\n",
       "      <th>0</th>\n",
       "      <td>21-25</td>\n",
       "      <td>University</td>\n",
       "      <td>No</td>\n",
       "      <td>Moderate</td>\n",
       "    </tr>\n",
       "    <tr>\n",
       "      <th>1</th>\n",
       "      <td>21-25</td>\n",
       "      <td>University</td>\n",
       "      <td>Yes</td>\n",
       "      <td>Moderate</td>\n",
       "    </tr>\n",
       "    <tr>\n",
       "      <th>2</th>\n",
       "      <td>16-20</td>\n",
       "      <td>College</td>\n",
       "      <td>No</td>\n",
       "      <td>Moderate</td>\n",
       "    </tr>\n",
       "    <tr>\n",
       "      <th>3</th>\n",
       "      <td>11-15</td>\n",
       "      <td>School</td>\n",
       "      <td>No</td>\n",
       "      <td>Moderate</td>\n",
       "    </tr>\n",
       "    <tr>\n",
       "      <th>4</th>\n",
       "      <td>16-20</td>\n",
       "      <td>School</td>\n",
       "      <td>No</td>\n",
       "      <td>Low</td>\n",
       "    </tr>\n",
       "    <tr>\n",
       "      <th>...</th>\n",
       "      <td>...</td>\n",
       "      <td>...</td>\n",
       "      <td>...</td>\n",
       "      <td>...</td>\n",
       "    </tr>\n",
       "    <tr>\n",
       "      <th>1200</th>\n",
       "      <td>16-20</td>\n",
       "      <td>College</td>\n",
       "      <td>No</td>\n",
       "      <td>Low</td>\n",
       "    </tr>\n",
       "    <tr>\n",
       "      <th>1201</th>\n",
       "      <td>16-20</td>\n",
       "      <td>College</td>\n",
       "      <td>No</td>\n",
       "      <td>Moderate</td>\n",
       "    </tr>\n",
       "    <tr>\n",
       "      <th>1202</th>\n",
       "      <td>11-15</td>\n",
       "      <td>School</td>\n",
       "      <td>No</td>\n",
       "      <td>Moderate</td>\n",
       "    </tr>\n",
       "    <tr>\n",
       "      <th>1203</th>\n",
       "      <td>16-20</td>\n",
       "      <td>College</td>\n",
       "      <td>No</td>\n",
       "      <td>Low</td>\n",
       "    </tr>\n",
       "    <tr>\n",
       "      <th>1204</th>\n",
       "      <td>11-15</td>\n",
       "      <td>School</td>\n",
       "      <td>No</td>\n",
       "      <td>Moderate</td>\n",
       "    </tr>\n",
       "  </tbody>\n",
       "</table>\n",
       "<p>1205 rows × 4 columns</p>\n",
       "</div>"
      ],
      "text/plain": [
       "        Age Education Level Self Lms Adaptivity Level\n",
       "0     21-25      University       No         Moderate\n",
       "1     21-25      University      Yes         Moderate\n",
       "2     16-20         College       No         Moderate\n",
       "3     11-15          School       No         Moderate\n",
       "4     16-20          School       No              Low\n",
       "...     ...             ...      ...              ...\n",
       "1200  16-20         College       No              Low\n",
       "1201  16-20         College       No         Moderate\n",
       "1202  11-15          School       No         Moderate\n",
       "1203  16-20         College       No              Low\n",
       "1204  11-15          School       No         Moderate\n",
       "\n",
       "[1205 rows x 4 columns]"
      ]
     },
     "execution_count": 5,
     "metadata": {},
     "output_type": "execute_result"
    }
   ],
   "source": [
    "df = mainDF.drop([\"Gender\", \"Institution Type\", \"IT Student\", \"Location\", \"Load-shedding\", \"Financial Condition\", \"Internet Type\", \"Network Type\", \"Class Duration\", \"Device\"], axis = \"columns\")\n",
    "df"
   ]
  },
  {
   "cell_type": "code",
   "execution_count": 6,
   "metadata": {},
   "outputs": [
    {
     "data": {
      "text/html": [
       "<div>\n",
       "<style scoped>\n",
       "    .dataframe tbody tr th:only-of-type {\n",
       "        vertical-align: middle;\n",
       "    }\n",
       "\n",
       "    .dataframe tbody tr th {\n",
       "        vertical-align: top;\n",
       "    }\n",
       "\n",
       "    .dataframe thead th {\n",
       "        text-align: right;\n",
       "    }\n",
       "</style>\n",
       "<table border=\"1\" class=\"dataframe\">\n",
       "  <thead>\n",
       "    <tr style=\"text-align: right;\">\n",
       "      <th></th>\n",
       "      <th>Age</th>\n",
       "      <th>Education Level</th>\n",
       "      <th>Self Lms</th>\n",
       "      <th>Adaptivity Level</th>\n",
       "    </tr>\n",
       "  </thead>\n",
       "  <tbody>\n",
       "    <tr>\n",
       "      <th>count</th>\n",
       "      <td>1205</td>\n",
       "      <td>1205</td>\n",
       "      <td>1205</td>\n",
       "      <td>1205</td>\n",
       "    </tr>\n",
       "    <tr>\n",
       "      <th>unique</th>\n",
       "      <td>6</td>\n",
       "      <td>3</td>\n",
       "      <td>2</td>\n",
       "      <td>3</td>\n",
       "    </tr>\n",
       "    <tr>\n",
       "      <th>top</th>\n",
       "      <td>21-25</td>\n",
       "      <td>School</td>\n",
       "      <td>No</td>\n",
       "      <td>Moderate</td>\n",
       "    </tr>\n",
       "    <tr>\n",
       "      <th>freq</th>\n",
       "      <td>374</td>\n",
       "      <td>530</td>\n",
       "      <td>995</td>\n",
       "      <td>625</td>\n",
       "    </tr>\n",
       "  </tbody>\n",
       "</table>\n",
       "</div>"
      ],
      "text/plain": [
       "          Age Education Level Self Lms Adaptivity Level\n",
       "count    1205            1205     1205             1205\n",
       "unique      6               3        2                3\n",
       "top     21-25          School       No         Moderate\n",
       "freq      374             530      995              625"
      ]
     },
     "execution_count": 6,
     "metadata": {},
     "output_type": "execute_result"
    }
   ],
   "source": [
    "df.describe()"
   ]
  },
  {
   "cell_type": "code",
   "execution_count": 7,
   "metadata": {},
   "outputs": [
    {
     "data": {
      "text/plain": [
       "Age                 0\n",
       "Education Level     0\n",
       "Self Lms            0\n",
       "Adaptivity Level    0\n",
       "dtype: int64"
      ]
     },
     "execution_count": 7,
     "metadata": {},
     "output_type": "execute_result"
    }
   ],
   "source": [
    "df.isna().sum()"
   ]
  },
  {
   "cell_type": "code",
   "execution_count": 8,
   "metadata": {},
   "outputs": [
    {
     "data": {
      "text/plain": [
       "Age                 6\n",
       "Education Level     3\n",
       "Self Lms            2\n",
       "Adaptivity Level    3\n",
       "dtype: int64"
      ]
     },
     "execution_count": 8,
     "metadata": {},
     "output_type": "execute_result"
    }
   ],
   "source": [
    "df.nunique()"
   ]
  },
  {
   "cell_type": "markdown",
   "metadata": {},
   "source": [
    "# My plan: \n",
    "\n",
    "Used columns: Age, Education level, Self LMS, Adaptivity Level\n",
    "\n",
    "Chosen data visualization for explatory: \n",
    "- Barplot: A simple way to get a count of the number of different students adaptivity level and age/education level\n"
   ]
  },
  {
   "cell_type": "markdown",
   "metadata": {},
   "source": [
    "Immediately, I wanted a simple visualization that would highlight if there was any correlation between age and adaptability levels, which lead me to creating a simple countplot"
   ]
  },
  {
   "cell_type": "code",
   "execution_count": null,
   "metadata": {},
   "outputs": [
    {
     "data": {
      "text/plain": [
       "<AxesSubplot:xlabel='Age', ylabel='count'>"
      ]
     },
     "execution_count": null,
     "metadata": {},
     "output_type": "execute_result"
    },
    {
     "data": {
      "image/png": "[encoded data removed]",
      "text/plain": [
       "<Figure size 640x480 with 1 Axes>"
      ]
     },
     "metadata": {},
     "output_type": "display_data"
    }
   ],
   "source": [
    "age_order = [\"1-5\", \"6-10\", \"11-15\", \"16-20\", \"21-25\"]\n",
    "hue_order = [\"Low\", \"Moderate\", \"High\"]\n",
    "\n",
    "sns.countplot(data = df, x = \"Age\", hue = \"Adaptivity Level\", order = order, hue_order = hue_order)"
   ]
  },
  {
   "cell_type": "markdown",
   "metadata": {},
   "source": [
    "The count plot sorts the responses into the age groups and tells us how many of each reponses there was, but the number of responses recorded for each age group is not necessarily the same, and it is difficult to judge if people of a certain age group on average was more adaptable to online learning. \n",
    "\n",
    "To get a better idea of that, I assigned values for each adaptivity level (0 for low, 1 for moderate and 2 for high), and took the average value for each age group and used a barplot to plot the results."
   ]
  },
  {
   "cell_type": "code",
   "execution_count": null,
   "metadata": {},
   "outputs": [
    {
     "data": {
      "text/html": [
       "<div>\n",
       "<style scoped>\n",
       "    .dataframe tbody tr th:only-of-type {\n",
       "        vertical-align: middle;\n",
       "    }\n",
       "\n",
       "    .dataframe tbody tr th {\n",
       "        vertical-align: top;\n",
       "    }\n",
       "\n",
       "    .dataframe thead th {\n",
       "        text-align: right;\n",
       "    }\n",
       "</style>\n",
       "<table border=\"1\" class=\"dataframe\">\n",
       "  <thead>\n",
       "    <tr style=\"text-align: right;\">\n",
       "      <th></th>\n",
       "      <th>Age</th>\n",
       "      <th>Education Level</th>\n",
       "      <th>Self Lms</th>\n",
       "      <th>Adaptivity Level</th>\n",
       "      <th>Numeric Adaptability</th>\n",
       "    </tr>\n",
       "  </thead>\n",
       "  <tbody>\n",
       "    <tr>\n",
       "      <th>0</th>\n",
       "      <td>21-25</td>\n",
       "      <td>University</td>\n",
       "      <td>No</td>\n",
       "      <td>Moderate</td>\n",
       "      <td>1</td>\n",
       "    </tr>\n",
       "    <tr>\n",
       "      <th>1</th>\n",
       "      <td>21-25</td>\n",
       "      <td>University</td>\n",
       "      <td>Yes</td>\n",
       "      <td>Moderate</td>\n",
       "      <td>1</td>\n",
       "    </tr>\n",
       "    <tr>\n",
       "      <th>2</th>\n",
       "      <td>16-20</td>\n",
       "      <td>College</td>\n",
       "      <td>No</td>\n",
       "      <td>Moderate</td>\n",
       "      <td>1</td>\n",
       "    </tr>\n",
       "    <tr>\n",
       "      <th>3</th>\n",
       "      <td>11-15</td>\n",
       "      <td>School</td>\n",
       "      <td>No</td>\n",
       "      <td>Moderate</td>\n",
       "      <td>1</td>\n",
       "    </tr>\n",
       "    <tr>\n",
       "      <th>4</th>\n",
       "      <td>16-20</td>\n",
       "      <td>School</td>\n",
       "      <td>No</td>\n",
       "      <td>Low</td>\n",
       "      <td>0</td>\n",
       "    </tr>\n",
       "    <tr>\n",
       "      <th>...</th>\n",
       "      <td>...</td>\n",
       "      <td>...</td>\n",
       "      <td>...</td>\n",
       "      <td>...</td>\n",
       "      <td>...</td>\n",
       "    </tr>\n",
       "    <tr>\n",
       "      <th>1200</th>\n",
       "      <td>16-20</td>\n",
       "      <td>College</td>\n",
       "      <td>No</td>\n",
       "      <td>Low</td>\n",
       "      <td>0</td>\n",
       "    </tr>\n",
       "    <tr>\n",
       "      <th>1201</th>\n",
       "      <td>16-20</td>\n",
       "      <td>College</td>\n",
       "      <td>No</td>\n",
       "      <td>Moderate</td>\n",
       "      <td>1</td>\n",
       "    </tr>\n",
       "    <tr>\n",
       "      <th>1202</th>\n",
       "      <td>11-15</td>\n",
       "      <td>School</td>\n",
       "      <td>No</td>\n",
       "      <td>Moderate</td>\n",
       "      <td>1</td>\n",
       "    </tr>\n",
       "    <tr>\n",
       "      <th>1203</th>\n",
       "      <td>16-20</td>\n",
       "      <td>College</td>\n",
       "      <td>No</td>\n",
       "      <td>Low</td>\n",
       "      <td>0</td>\n",
       "    </tr>\n",
       "    <tr>\n",
       "      <th>1204</th>\n",
       "      <td>11-15</td>\n",
       "      <td>School</td>\n",
       "      <td>No</td>\n",
       "      <td>Moderate</td>\n",
       "      <td>1</td>\n",
       "    </tr>\n",
       "  </tbody>\n",
       "</table>\n",
       "<p>1205 rows × 5 columns</p>\n",
       "</div>"
      ],
      "text/plain": [
       "        Age Education Level Self Lms Adaptivity Level  Numeric Adaptability\n",
       "0     21-25      University       No         Moderate                     1\n",
       "1     21-25      University      Yes         Moderate                     1\n",
       "2     16-20         College       No         Moderate                     1\n",
       "3     11-15          School       No         Moderate                     1\n",
       "4     16-20          School       No              Low                     0\n",
       "...     ...             ...      ...              ...                   ...\n",
       "1200  16-20         College       No              Low                     0\n",
       "1201  16-20         College       No         Moderate                     1\n",
       "1202  11-15          School       No         Moderate                     1\n",
       "1203  16-20         College       No              Low                     0\n",
       "1204  11-15          School       No         Moderate                     1\n",
       "\n",
       "[1205 rows x 5 columns]"
      ]
     },
     "execution_count": null,
     "metadata": {},
     "output_type": "execute_result"
    }
   ],
   "source": [
    "#Creating new column with adaptivity levels as numeric values\n",
    "numeric_var = {\"Numeric Adaptability\":{\"Low\":0, \"Moderate\":1, \"High\":2}}\n",
    "df[\"Numeric Adaptability\"] = df[\"Adaptivity Level\"]\n",
    "df = df.replace(numeric_var)\n",
    "df"
   ]
  },
  {
   "cell_type": "code",
   "execution_count": null,
   "metadata": {},
   "outputs": [
    {
     "data": {
      "text/plain": [
       "<seaborn.axisgrid.FacetGrid>"
      ]
     },
     "execution_count": null,
     "metadata": {},
     "output_type": "execute_result"
    },
    {
     "data": {
      "image/png": "[encoded data removed]",
      "text/plain": [
       "<Figure size 500x500 with 1 Axes>"
      ]
     },
     "metadata": {},
     "output_type": "display_data"
    }
   ],
   "source": [
    "sns.catplot(data = df, kind = \"bar\", x = \"Age\", y = \"Numeric Adaptability\", order = age_order)"
   ]
  },
  {
   "cell_type": "markdown",
   "metadata": {},
   "source": [
    "From this graph we can see that people of ages 16-20 have the worst adaptability score our of all the age groups.\n",
    "A similar plot can be used for other siginificant factors, such as Education Level"
   ]
  },
  {
   "cell_type": "code",
   "execution_count": null,
   "metadata": {},
   "outputs": [
    {
     "data": {
      "text/plain": [
       "<seaborn.axisgrid.FacetGrid>"
      ]
     },
     "execution_count": null,
     "metadata": {},
     "output_type": "execute_result"
    },
    {
     "data": {
      "image/png": "[encoded data removed]",
      "text/plain": [
       "<Figure size 500x500 with 1 Axes>"
      ]
     },
     "metadata": {},
     "output_type": "display_data"
    }
   ],
   "source": [
    "sns.catplot(data = df, kind = \"bar\", x = \"Education Level\", y = \"Numeric Adaptability\", order = [\"School\", \"College\", \"University\"])"
   ]
  },
  {
   "cell_type": "markdown",
   "metadata": {},
   "source": [
    "Catplot works well with single variables, and it is easy to tell from the two graphs how well students of different age groups or students at different education level fair. \n",
    "In this case, it appears that college level students are finding it the hardest to adapt to online learning. \n",
    "However, we could go into even more detail if there was a way to show both variables side by side. \n",
    "\n",
    "The heatmap gives us a way to show two of these variables simultaneously by having the age group on one axis and the education on the other. "
   ]
  },
  {
   "cell_type": "code",
   "execution_count": null,
   "metadata": {},
   "outputs": [
    {
     "data": {
      "text/plain": [
       "<AxesSubplot:xlabel='Education Level', ylabel='Age'>"
      ]
     },
     "execution_count": null,
     "metadata": {},
     "output_type": "execute_result"
    },
    {
     "data": {
      "image/png": "[encoded data removed]",
      "text/plain": [
       "<Figure size 640x480 with 2 Axes>"
      ]
     },
     "metadata": {},
     "output_type": "display_data"
    }
   ],
   "source": [
    "pivotDF = df.pivot_table(values = \"Numeric Adaptability\", index = \"Age\", columns = \"Education Level\")\n",
    "pivotDF = pivotDF.reindex(order, axis = 0)\n",
    "pivotDF = pivotDF.reindex([\"School\", \"College\", \"University\"], axis = 1)\n",
    "sns.heatmap(data = pivotDF, annot = True)"
   ]
  },
  {
   "cell_type": "code",
   "execution_count": null,
   "metadata": {},
   "outputs": [],
   "source": []
  },
  {
   "cell_type": "markdown",
   "metadata": {},
   "source": [
    "  "
   ]
  }
 ],
 "metadata": {
  "kernelspec": {
   "display_name": "Python 3 (ipykernel)",
   "language": "python",
   "name": "python3"
  },
  "language_info": {
   "codemirror_mode": {
    "name": "ipython",
    "version": 3
   },
   "file_extension": ".py",
   "mimetype": "text/x-python",
   "name": "python",
   "nbconvert_exporter": "python",
   "pygments_lexer": "ipython3",
   "version": "3.10.8"
  }
 },
 "nbformat": 4,
 "nbformat_minor": 4
}
