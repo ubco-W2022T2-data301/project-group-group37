{
 "cells": [
  {
   "cell_type": "markdown",
   "source": [
    "# Shawn Goh"
   ],
   "metadata": {}
  },
  {
   "cell_type": "markdown",
   "source": [
    "## Research question/interests\r\n",
    "\r\n",
    "I was interested in how different maturity level might affect how adaptable students are to online learning, and I plan to look for any correlation between age/education level and their adaptability to online learning."
   ],
   "metadata": {}
  }
 ],
 "metadata": {
  "orig_nbformat": 4,
  "language_info": {
   "name": "plaintext"
  }
 },
 "nbformat": 4,
 "nbformat_minor": 2
}
