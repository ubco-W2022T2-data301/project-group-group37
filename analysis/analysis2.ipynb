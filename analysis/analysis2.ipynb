{
 "cells": [
  {
   "cell_type": "markdown",
   "source": [
    "# Shawn Goh"
   ],
   "metadata": {}
  },
  {
   "cell_type": "markdown",
   "source": [
    "## How does the maturity level of students affect their adaptability to online learning\r\n",
    "\r\n",
    "Personally, I felt I became more interested in learning as I grew older, and especially when I entered collage where I am taking courses that are slightly more specialzed in topics I am personally interested about. This led me to wonder if different maturity level might affect how adaptable students are to online learning, and I plan to look for any correlation between age/education level and their adaptability to online learning. Firstly I would need a good way to define maturity. For example, should it be more based on age or education level? Besides, would other factors possibly play a part, such as gender? With that in mind, I can then compare how adaptable students are to online learning with some visualisation, possibly a box plot. "
   ],
   "metadata": {}
  }
 ],
 "metadata": {
  "orig_nbformat": 4,
  "language_info": {
   "name": "plaintext"
  }
 },
 "nbformat": 4,
 "nbformat_minor": 2
}
